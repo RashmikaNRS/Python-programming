{
 "cells": [
  {
   "cell_type": "markdown",
   "id": "799f2dba",
   "metadata": {},
   "source": [
    "## BASIC PROGRAMS"
   ]
  },
  {
   "cell_type": "markdown",
   "id": "7a10aeee",
   "metadata": {},
   "source": [
    "Print Hello world!"
   ]
  },
  {
   "cell_type": "code",
   "execution_count": 1,
   "id": "d89a7381",
   "metadata": {},
   "outputs": [
    {
     "name": "stdout",
     "output_type": "stream",
     "text": [
      "Hello world!\n"
     ]
    }
   ],
   "source": [
    "print('Hello world!')"
   ]
  },
  {
   "cell_type": "markdown",
   "id": "66f672b7",
   "metadata": {},
   "source": [
    "Declare the following variables: Int, Float, Boolean, String & print its value."
   ]
  },
  {
   "cell_type": "code",
   "execution_count": 2,
   "id": "4a67a04f",
   "metadata": {},
   "outputs": [
    {
     "name": "stdout",
     "output_type": "stream",
     "text": [
      "10\n",
      "10.2\n",
      "True\n",
      "Hello\n"
     ]
    }
   ],
   "source": [
    "a=10\n",
    "b=10.2\n",
    "c=True\n",
    "d='Hello'\n",
    "print(a)\n",
    "print(b)\n",
    "print(c)\n",
    "print(d)"
   ]
  },
  {
   "cell_type": "markdown",
   "id": "278ca52f",
   "metadata": {},
   "source": [
    "Program to calculate the Area Of Triangle"
   ]
  },
  {
   "cell_type": "code",
   "execution_count": 1,
   "id": "5e301fce",
   "metadata": {},
   "outputs": [
    {
     "name": "stdout",
     "output_type": "stream",
     "text": [
      "6.0\n"
     ]
    }
   ],
   "source": [
    "b=3\n",
    "h=4\n",
    "area=(b*h)/2 # the formula for area of triangle is (b*h)/2\n",
    "print(area)"
   ]
  },
  {
   "cell_type": "markdown",
   "id": "9597c680",
   "metadata": {},
   "source": [
    "Program to swap two variables"
   ]
  },
  {
   "cell_type": "code",
   "execution_count": 6,
   "id": "4aaedcc2",
   "metadata": {},
   "outputs": [
    {
     "name": "stdout",
     "output_type": "stream",
     "text": [
      "Original values:\n",
      "10\n",
      "5\n",
      "Swapped values:\n",
      "5\n",
      "10\n"
     ]
    }
   ],
   "source": [
    "a=10\n",
    "b=5\n",
    "print('Original values:')\n",
    "print(a)\n",
    "print(b)\n",
    "temp=a # storing the value of a in temp (a temporary variable)\n",
    "a=b # storing the value of b in a\n",
    "b=temp # storing the value of temp in b\n",
    "print('Swapped values:')\n",
    "print(a)\n",
    "print(b)"
   ]
  },
  {
   "cell_type": "markdown",
   "id": "898c1196",
   "metadata": {},
   "source": [
    "Program is to check if a number is positive, negative or 0 (Using If…elif…else)"
   ]
  },
  {
   "cell_type": "code",
   "execution_count": 15,
   "id": "da1167e9",
   "metadata": {},
   "outputs": [
    {
     "name": "stdout",
     "output_type": "stream",
     "text": [
      "positive\n"
     ]
    }
   ],
   "source": [
    "a=879\n",
    "if a>0:\n",
    "    print('positive')\n",
    "elif a<0:\n",
    "    print('negative')\n",
    "else:\n",
    "    print('zero')"
   ]
  },
  {
   "cell_type": "markdown",
   "id": "d6290657",
   "metadata": {},
   "source": [
    "Program is to check if a number is Even or Odd"
   ]
  },
  {
   "cell_type": "code",
   "execution_count": 19,
   "id": "86527635",
   "metadata": {},
   "outputs": [
    {
     "name": "stdout",
     "output_type": "stream",
     "text": [
      "even\n"
     ]
    }
   ],
   "source": [
    "a=38\n",
    "if a%2==0: # n%2=0 for even numbers\n",
    "    print('even')\n",
    "else:\n",
    "    print('odd')"
   ]
  },
  {
   "cell_type": "markdown",
   "id": "479f1d97",
   "metadata": {},
   "source": [
    "Program to print Odd number within a given range"
   ]
  },
  {
   "cell_type": "code",
   "execution_count": 3,
   "id": "7c4b0762",
   "metadata": {},
   "outputs": [
    {
     "name": "stdout",
     "output_type": "stream",
     "text": [
      "1\n",
      "3\n",
      "5\n",
      "7\n",
      "9\n",
      "11\n",
      "13\n",
      "15\n",
      "17\n",
      "19\n"
     ]
    }
   ],
   "source": [
    "x=20\n",
    "a=list(range(x)) # range(20) is converted to list\n",
    "for x in a: \n",
    "    if x%2==1:\n",
    "        print(x)"
   ]
  },
  {
   "cell_type": "markdown",
   "id": "96d2e265",
   "metadata": {},
   "source": [
    "Python program to find the factorial of a number"
   ]
  },
  {
   "cell_type": "code",
   "execution_count": 19,
   "id": "5f0a0f0d",
   "metadata": {},
   "outputs": [
    {
     "name": "stdout",
     "output_type": "stream",
     "text": [
      "Factorial of 4 is 24\n"
     ]
    }
   ],
   "source": [
    "def fact(n):\n",
    "    if n<0: \n",
    "        return None\n",
    "    if n==1: \n",
    "        return 1\n",
    "    else:\n",
    "        return n*(fact(n-1))\n",
    "n=4\n",
    "print(f'Factorial of {n} is {fact(n)}')"
   ]
  },
  {
   "cell_type": "markdown",
   "id": "4242b1a5",
   "metadata": {},
   "source": [
    "Program to reverse a given number"
   ]
  },
  {
   "cell_type": "code",
   "execution_count": 27,
   "id": "f4ab7db8",
   "metadata": {},
   "outputs": [
    {
     "name": "stdout",
     "output_type": "stream",
     "text": [
      "6384924\n"
     ]
    }
   ],
   "source": [
    "a=4294836\n",
    "b=str(a) # converting a number to string first\n",
    "c=b[::-1] # using negative step of -1 so that the elements are reversed\n",
    "print(int(c)) # converting the reversed string to int"
   ]
  },
  {
   "cell_type": "markdown",
   "id": "4ace8e36",
   "metadata": {},
   "source": [
    "Program to find out the sum of Natural numbers"
   ]
  },
  {
   "cell_type": "code",
   "execution_count": 32,
   "id": "2bdbc715",
   "metadata": {},
   "outputs": [
    {
     "name": "stdout",
     "output_type": "stream",
     "text": [
      "The sum of first 15 natural numbers is 120\n"
     ]
    }
   ],
   "source": [
    "n=15\n",
    "formula=int((n*(n+1))/2)\n",
    "print(f'The sum of first {n} natural numbers is {formula}')"
   ]
  },
  {
   "cell_type": "markdown",
   "id": "12c21c82",
   "metadata": {},
   "source": [
    "## STRINGS"
   ]
  },
  {
   "cell_type": "markdown",
   "id": "af8201b7",
   "metadata": {},
   "source": [
    "Program to reverse a string without using recursion"
   ]
  },
  {
   "cell_type": "code",
   "execution_count": 33,
   "id": "cd2d449e",
   "metadata": {},
   "outputs": [
    {
     "name": "stdout",
     "output_type": "stream",
     "text": [
      "gnimmargorp nohtyp ot emoclew\n"
     ]
    }
   ],
   "source": [
    "str1='welcome to python programming'\n",
    "str2=str1[::-1] # using negative step of -1 so that the elements of the string are reversed\n",
    "print(str2)"
   ]
  },
  {
   "cell_type": "markdown",
   "id": "e252eee1",
   "metadata": {},
   "source": [
    "Program to check if string is palindrome or not"
   ]
  },
  {
   "cell_type": "code",
   "execution_count": 36,
   "id": "184db3f9",
   "metadata": {},
   "outputs": [
    {
     "name": "stdout",
     "output_type": "stream",
     "text": [
      "Palindrome\n"
     ]
    }
   ],
   "source": [
    "str1='madam'\n",
    "str2=str1[::-1] # using negative step of -1 so that the elements are reversed\n",
    "if str1==str2: # if the original string and reversed string are same\n",
    "    print(f'Palindrome')\n",
    "else:\n",
    "    print('Not a palindrome')"
   ]
  },
  {
   "cell_type": "markdown",
   "id": "707bf613",
   "metadata": {},
   "source": [
    "Python Program to Replace all Occurrences of ‘a’ with $ in a String"
   ]
  },
  {
   "cell_type": "code",
   "execution_count": 39,
   "id": "98a4acda",
   "metadata": {},
   "outputs": [
    {
     "name": "stdout",
     "output_type": "stream",
     "text": [
      "aakash\n",
      "$$k$sh\n"
     ]
    }
   ],
   "source": [
    "str1='aakash'\n",
    "print(str1)\n",
    "str2=str1.replace('a','$') # using replace()\n",
    "print(str2)"
   ]
  },
  {
   "cell_type": "markdown",
   "id": "10571879",
   "metadata": {},
   "source": [
    "Python Program to Count the Number of Vowels in a String "
   ]
  },
  {
   "cell_type": "code",
   "execution_count": 40,
   "id": "c9895f82",
   "metadata": {},
   "outputs": [
    {
     "name": "stdout",
     "output_type": "stream",
     "text": [
      "5\n"
     ]
    }
   ],
   "source": [
    "vowels='aeiou'\n",
    "str1='encyclopedia'\n",
    "count=0\n",
    "for x in str1:\n",
    "    if x in vowels: # if the characters in str1 are in vowels\n",
    "        count+=1 # count is incremented\n",
    "print(count)"
   ]
  },
  {
   "cell_type": "markdown",
   "id": "d650bd4c",
   "metadata": {},
   "source": [
    "Input Two Strings and Display the Larger String without Using Built-in Functions"
   ]
  },
  {
   "cell_type": "code",
   "execution_count": 43,
   "id": "d4c5845f",
   "metadata": {},
   "outputs": [
    {
     "name": "stdout",
     "output_type": "stream",
     "text": [
      "String \"well\" is smaller than \"python\"\n"
     ]
    }
   ],
   "source": [
    "str1='welcome'\n",
    "str2='python'\n",
    "total=0\n",
    "count=0\n",
    "for x in str1: \n",
    "    total+=1 # total is incremented for every character in str1\n",
    "for y in str2:\n",
    "    count+=1 # count is incremented for evey character in str2\n",
    "if total>count:\n",
    "    print(f'String \"{str1}\" is larger than \"{str2}\"')\n",
    "else:\n",
    "    print(f'String \"{str1}\" is smaller than \"{str2}\"')"
   ]
  },
  {
   "cell_type": "markdown",
   "id": "3fa65984",
   "metadata": {},
   "source": [
    "Count the number of digits & letter in a string"
   ]
  },
  {
   "cell_type": "code",
   "execution_count": 70,
   "id": "ad7d6346",
   "metadata": {},
   "outputs": [
    {
     "name": "stdout",
     "output_type": "stream",
     "text": [
      "The number of letters is 37\n",
      "The number of digits is 3\n"
     ]
    }
   ],
   "source": [
    "str1='Glad to Welcome all the 100 members to this event'\n",
    "count=0\n",
    "total=0\n",
    "for x in str1:\n",
    "    if x.isdigit(): # total is incremented if the character is a digit\n",
    "        total+=1\n",
    "    if x.isalpha(): # count is incremented if the character is a letter\n",
    "        count+=1\n",
    "print(f'The number of letters is {count}')\n",
    "print(f'The number of digits is {total}')"
   ]
  },
  {
   "cell_type": "markdown",
   "id": "3a9df777",
   "metadata": {},
   "source": [
    "Count Number of Lowercase Characters in a String"
   ]
  },
  {
   "cell_type": "code",
   "execution_count": 73,
   "id": "d860dbbb",
   "metadata": {},
   "outputs": [
    {
     "name": "stdout",
     "output_type": "stream",
     "text": [
      "The number of lowercase characters is 28\n"
     ]
    }
   ],
   "source": [
    "str1='Glad To Welcome All The 100 Members To This Event'\n",
    "count=0\n",
    "for x in str1:\n",
    "    if x.islower(): \n",
    "        count+=1 # count is incremented if the character is in lowercase\n",
    "print(f'The number of lowercase characters is {count}')"
   ]
  },
  {
   "cell_type": "markdown",
   "id": "c47002d6",
   "metadata": {},
   "source": [
    "Program to check if a Substring is Present in a Given String"
   ]
  },
  {
   "cell_type": "code",
   "execution_count": 76,
   "id": "d3ffbe83",
   "metadata": {},
   "outputs": [
    {
     "name": "stdout",
     "output_type": "stream",
     "text": [
      "True\n"
     ]
    }
   ],
   "source": [
    "str1='Betty bought some butter but the butter was bitter'\n",
    "str2='er'\n",
    "print(str2 in str1) # membership operator is used"
   ]
  },
  {
   "cell_type": "markdown",
   "id": "b53f9550",
   "metadata": {},
   "source": [
    "## LISTS AND TUPLES"
   ]
  },
  {
   "cell_type": "markdown",
   "id": "10d05398",
   "metadata": {},
   "source": [
    "Program to Find the Largest Number in a List"
   ]
  },
  {
   "cell_type": "code",
   "execution_count": 80,
   "id": "b1e1da49",
   "metadata": {},
   "outputs": [
    {
     "name": "stdout",
     "output_type": "stream",
     "text": [
      "8795\n"
     ]
    }
   ],
   "source": [
    "lst1=[23,4,1,6,5,443,656,43,7668,4543,3232,768,4333,8795,332,4545,6953]\n",
    "maxi=lst1[0] # first element of list is assigned to maxi\n",
    "for x in lst1:\n",
    "    if x>maxi: # checked if every element is > maxi\n",
    "        maxi=x # x is assigned to maxi if x is greater\n",
    "print(maxi)"
   ]
  },
  {
   "cell_type": "markdown",
   "id": "f2bb3a4f",
   "metadata": {},
   "source": [
    "Program to Put Even and Odd elements in a List into Two Different Lists"
   ]
  },
  {
   "cell_type": "code",
   "execution_count": 81,
   "id": "64fe88e4",
   "metadata": {},
   "outputs": [
    {
     "name": "stdout",
     "output_type": "stream",
     "text": [
      "The even numbers are [4, 6, 656, 7668, 3232, 768, 332]\n",
      "The odd numbers are [23, 1, 5, 443, 43, 4543, 4333, 8795, 4545, 6953]\n"
     ]
    }
   ],
   "source": [
    "lst1=[23,4,1,6,5,443,656,43,7668,4543,3232,768,4333,8795,332,4545,6953]\n",
    "lst2=[]\n",
    "lst3=[]\n",
    "for x in lst1:\n",
    "    if x%2==0: # when x is divisible by 2, appending x in lst2\n",
    "        lst2.append(x)\n",
    "    else: # if not, appending it in lst3\n",
    "        lst3.append(x)\n",
    "print(f'The even numbers are {lst2}')\n",
    "print(f'The odd numbers are {lst3}')"
   ]
  },
  {
   "cell_type": "markdown",
   "id": "294954e8",
   "metadata": {},
   "source": [
    "Program to Read a List of Words and Return the Length of the Longest One"
   ]
  },
  {
   "cell_type": "code",
   "execution_count": 87,
   "id": "0e15ce12",
   "metadata": {},
   "outputs": [
    {
     "name": "stdout",
     "output_type": "stream",
     "text": [
      "['The', 'men', 'are', 'confident', 'they', 'will', 'catch', 'the', 'biggest', 'fish', 'today']\n",
      "The longest word among the lists of words is \"confident\"\n"
     ]
    }
   ],
   "source": [
    "str1=('The men are confident they will catch the biggest fish today')\n",
    "lst1=list(str1.split()) # splitting the string so that every word becomes an element of the list\n",
    "print(lst1)\n",
    "maxi=lst1[0] # first element of list is assigned to maxi\n",
    "for x in lst1:\n",
    "    if len(x)>len(maxi): # checked if every element is > maxi\n",
    "        maxi=x # x is assigned to maxi if x is greater\n",
    "print(f'The longest word among the lists of words is \"{maxi}\"')"
   ]
  },
  {
   "cell_type": "markdown",
   "id": "8d469dea",
   "metadata": {},
   "source": [
    "Create a List of Tuples with the First Element as the Number and Second Element as the Square of the Number"
   ]
  },
  {
   "cell_type": "code",
   "execution_count": 94,
   "id": "d94a9f57",
   "metadata": {},
   "outputs": [
    {
     "name": "stdout",
     "output_type": "stream",
     "text": [
      "[(1, 1), (2, 4), (3, 9), (4, 16), (5, 25)]\n"
     ]
    }
   ],
   "source": [
    "tup1=(1,2,3,4,5)\n",
    "lst2=[]\n",
    "for x in range(len(tup1)):\n",
    "    lst1=(tup1[x],tup1[x]**2) # element in first index of the tuple is taken and squared \n",
    "    lst2.append(lst1)\n",
    "print(lst2)"
   ]
  },
  {
   "cell_type": "markdown",
   "id": "0fe48334",
   "metadata": {},
   "source": [
    "Program to Remove the Duplicate Items from a List"
   ]
  },
  {
   "cell_type": "code",
   "execution_count": 101,
   "id": "a6e5f61b",
   "metadata": {},
   "outputs": [
    {
     "name": "stdout",
     "output_type": "stream",
     "text": [
      "[23, 4, 1, 6, 5, 443, 21, 8, 7, 3, 11, 27, 10]\n"
     ]
    }
   ],
   "source": [
    "lst1=[23,4,1,6,5,443,21,23,4,6,8,7,6,3,1,1,6,4,5,11,27,10]\n",
    "lst2=[] # creating a new list\n",
    "for x in lst1:\n",
    "    if x not in lst2: # append x to lst2 only if the elements in lst1 are not in lst2\n",
    "        lst2.append(x)\n",
    "print(lst2)"
   ]
  },
  {
   "cell_type": "markdown",
   "id": "947c2ccc",
   "metadata": {},
   "source": [
    "## DICTIONARY"
   ]
  },
  {
   "cell_type": "markdown",
   "id": "603352cd",
   "metadata": {},
   "source": [
    "Program to Check if a Given Key Exists in a Dictionary or Not"
   ]
  },
  {
   "cell_type": "code",
   "execution_count": 6,
   "id": "937dfbcb",
   "metadata": {},
   "outputs": [
    {
     "name": "stdout",
     "output_type": "stream",
     "text": [
      "{'a': 10, 'hey': 20, 1: 'hello', 2: 30, 4.56: [1, 2, 3, 'a'], ('x', 11, 'y'): 'tup1'}\n",
      "The key \"4.56\" exists\n"
     ]
    }
   ],
   "source": [
    "dict1={'a':10,'hey':20,1:'hello',2:30,4.56:[1,2,3,'a'],('x',11,'y'):'tup1'}\n",
    "print(dict1)\n",
    "tofind=4.56 # the key to be checked\n",
    "for elem in dict1:\n",
    "    if elem==tofind:\n",
    "        print(f'The key \"{tofind}\" exists')\n",
    "        break\n",
    "if elem!=tofind:\n",
    "    print(f'The key \"{tofind}\" does not exist')"
   ]
  },
  {
   "cell_type": "markdown",
   "id": "a43cdc6f",
   "metadata": {},
   "source": [
    "Program to Sum All the Items in a Dictionary"
   ]
  },
  {
   "cell_type": "code",
   "execution_count": 9,
   "id": "f21bede8",
   "metadata": {},
   "outputs": [
    {
     "name": "stdout",
     "output_type": "stream",
     "text": [
      "{'a': 99, 'b': 84, 'c': 91, 'd': 39.45, 'e': 56.75}\n",
      "dict_values([99, 84, 91, 39.45, 56.75])\n",
      "370.2\n"
     ]
    }
   ],
   "source": [
    "dict1={'a':99,'b':84,'c':91,'d':39.45, 'e':56.75}\n",
    "print(dict1)\n",
    "val=dict1.values() # all the values in the dictionary are obtained\n",
    "print(val)\n",
    "total=0\n",
    "for elem in val:\n",
    "    total+=elem # adding the element to the total for every element\n",
    "print(total)"
   ]
  },
  {
   "cell_type": "markdown",
   "id": "6b48d493",
   "metadata": {},
   "source": [
    "Program to Remove the Given Key from a Dictionary"
   ]
  },
  {
   "cell_type": "code",
   "execution_count": 21,
   "id": "2706ce26",
   "metadata": {},
   "outputs": [
    {
     "name": "stdout",
     "output_type": "stream",
     "text": [
      "{'a': 10, 'hey': 20, 1: 'hello', 2: 30, 4.56: [1, 2, 3, 'a'], ('x', 11, 'y'): 'tup1'}\n",
      "10\n",
      "{'hey': 20, 1: 'hello', 2: 30, 4.56: [1, 2, 3, 'a'], ('x', 11, 'y'): 'tup1'}\n"
     ]
    }
   ],
   "source": [
    "dict1={'a':10,'hey':20,1:'hello',2:30,4.56:[1,2,3,'a'],('x',11,'y'):'tup1'}\n",
    "print(dict1)\n",
    "toremove='a'\n",
    "if toremove in dict1: # if the key to be removed is found, then pop\n",
    "    popped=dict1.pop(toremove)\n",
    "    print(popped)\n",
    "else:\n",
    "    print(f'The key to be popped \"{toremove}\" is not found!')\n",
    "print(dict1)"
   ]
  },
  {
   "cell_type": "markdown",
   "id": "b18657ce",
   "metadata": {},
   "source": [
    "Write a Python program to iterate over dictionaries using for loops"
   ]
  },
  {
   "cell_type": "code",
   "execution_count": 13,
   "id": "f839cb33",
   "metadata": {},
   "outputs": [
    {
     "name": "stdout",
     "output_type": "stream",
     "text": [
      "{'a': 10, 'hey': 20, 1: 'hello', 2: 30, 4.56: [1, 2, 3, 'a'], ('x', 11, 'y'): 'tup1'}\n",
      "a\n",
      "hey\n",
      "1\n",
      "2\n",
      "4.56\n",
      "('x', 11, 'y')\n"
     ]
    }
   ],
   "source": [
    "dict1={'a':10,'hey':20,1:'hello',2:30,4.56:[1,2,3,'a'],('x',11,'y'):'tup1'}\n",
    "print(dict1)\n",
    "for elem in dict1: # iterates over the keys in the dictionary\n",
    "    print(elem)"
   ]
  },
  {
   "cell_type": "markdown",
   "id": "fe2a8aa6",
   "metadata": {},
   "source": [
    "Write a Python program to sort a dictionary by key"
   ]
  },
  {
   "cell_type": "code",
   "execution_count": 22,
   "id": "19bcf0c5",
   "metadata": {},
   "outputs": [
    {
     "name": "stdout",
     "output_type": "stream",
     "text": [
      "{99: 99, 31: 84, 20.1: 91, 0.002: 39.45, 991: 56.75}\n",
      "[0.002, 20.1, 31, 99, 991]\n"
     ]
    }
   ],
   "source": [
    "dict1={99:99,31:84,20.1:91,0.002:39.45,991:56.75}\n",
    "print(dict1)\n",
    "a=sorted(dict1) # sorts the keys in the dictionary\n",
    "print(a)"
   ]
  }
 ],
 "metadata": {
  "kernelspec": {
   "display_name": "Python 3 (ipykernel)",
   "language": "python",
   "name": "python3"
  },
  "language_info": {
   "codemirror_mode": {
    "name": "ipython",
    "version": 3
   },
   "file_extension": ".py",
   "mimetype": "text/x-python",
   "name": "python",
   "nbconvert_exporter": "python",
   "pygments_lexer": "ipython3",
   "version": "3.11.3"
  }
 },
 "nbformat": 4,
 "nbformat_minor": 5
}
