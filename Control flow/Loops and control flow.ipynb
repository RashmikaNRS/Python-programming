{
 "cells": [
  {
   "cell_type": "markdown",
   "id": "3bb309bb",
   "metadata": {},
   "source": [
    " W. A P. which takes one number from 0 to 9 from the user and prints it in the word. And if the word is not from 0 to 9 then it should print that number is outside of the range and program should exit. <br>\n",
    " For example:- <br>\n",
    " input = 1 <br>\n",
    " output = one"
   ]
  },
  {
   "cell_type": "code",
   "execution_count": 7,
   "id": "603f4727",
   "metadata": {},
   "outputs": [
    {
     "name": "stdout",
     "output_type": "stream",
     "text": [
      "Enter a number from 0 to 9: 3\n",
      "three\n"
     ]
    }
   ],
   "source": [
    "dict1={0:'zero',1:'one',2:'two',3:'three',4:'four',5:'five',6:'six',7:'seven',8:'eight',9:'nine'} # dictionary with numbers and the numbers in words\n",
    "num=int(input('Enter a number from 0 to 9: ')) # getting a number from 0 to 9 from the user\n",
    "if num not in dict1: \n",
    "    print('Number is outside of the range')\n",
    "else:\n",
    "    print(dict1[num])"
   ]
  },
  {
   "cell_type": "markdown",
   "id": "3306a4cb",
   "metadata": {},
   "source": [
    " W. A P. to implement calculator but the operation to be done and two numbers will be taken as input from user: <br>       Operation console should show below:- <br>\n",
    "Please select any one operation from below:-      <br>\n",
    "* To add enter 1   <br>\n",
    "* to subtract enter 2   <br>\n",
    "* To multiply enter 3    <br>\n",
    "* To divide enter 4      <br>\n",
    "* To divide and find quotient enter 5     <br>\n",
    "* To divide and find remainder enter 6   <br>\n",
    "* To divide and find num1 to the power of num2 enter 7  <br>\n",
    "* To Come out of the program enter 8 "
   ]
  },
  {
   "cell_type": "code",
   "execution_count": 23,
   "id": "8212e44d",
   "metadata": {},
   "outputs": [
    {
     "name": "stdout",
     "output_type": "stream",
     "text": [
      "Enter the first number: 1389\n",
      "Enter the second number: 784\n",
      "Please select any one operation from below: \n",
      " To add enter 1 \n",
      " to subtract enter 2 \n",
      " To multiply enter 3 \n",
      " To divide enter 4 \n",
      " To divide and find quotient enter 5 \n",
      " To divide and find remainder enter 6 \n",
      " To divide and find num1 to the power of num2 enter 7 \n",
      " To Come out of the program enter 8\n",
      "4\n",
      "1.7716836734693877\n"
     ]
    }
   ],
   "source": [
    "num1=int(input('Enter the first number: '))\n",
    "num2=int(input('Enter the second number: '))\n",
    "op=int(input('Please select any one operation from below: \\n \\\n",
    "To add enter 1 \\n \\\n",
    "to subtract enter 2 \\n \\\n",
    "To multiply enter 3 \\n \\\n",
    "To divide enter 4 \\n \\\n",
    "To divide and find quotient enter 5 \\n \\\n",
    "To divide and find remainder enter 6 \\n \\\n",
    "To divide and find num1 to the power of num2 enter 7 \\n \\\n",
    "To Come out of the program enter 8\\n'))\n",
    "if op==1:\n",
    "    print(num1+num2)\n",
    "if op==2:\n",
    "    print(num1-num2)\n",
    "if op==3:\n",
    "    print(num1*num2)\n",
    "if op==4:\n",
    "    print(num1/num2)\n",
    "if op==5:\n",
    "    print(num1//num2)\n",
    "if op==6:\n",
    "    print(num1%num2)\n",
    "if op==7:\n",
    "    print(num1**num2)\n",
    "if op==8:\n",
    "    print('End')"
   ]
  },
  {
   "cell_type": "markdown",
   "id": "8b250b62",
   "metadata": {},
   "source": [
    "W A P to check whether a year entered by user is an leap year or not? Check with below input:-  <br>\n",
    "leap year:- 2012, 1968, 2004, 1200, 1600,2400   <br>\n",
    "Non-lear year:- 1971, 2006, 1700,1800,1900 "
   ]
  },
  {
   "cell_type": "code",
   "execution_count": 35,
   "id": "6345d65e",
   "metadata": {},
   "outputs": [
    {
     "name": "stdout",
     "output_type": "stream",
     "text": [
      "Enter a year: 1900\n",
      "Not a leap year\n"
     ]
    }
   ],
   "source": [
    "yr=int(input('Enter a year: '))\n",
    "if yr%4==0: # Checking if the yr is divisible by 4\n",
    "    if yr%100==0: # Checking if the yr is divisible by 100\n",
    "        if yr%400==0: # Checking if the yr is divisible by 400\n",
    "            print('Leap year')\n",
    "        else: \n",
    "            print('Not a leap year')\n",
    "    else: # If not divisible by 100, it is a leap year\n",
    "        print('Leap year')\n",
    "else:\n",
    "    print('Not a leap year')"
   ]
  },
  {
   "cell_type": "markdown",
   "id": "4c1c72d1",
   "metadata": {},
   "source": [
    "W A P which takes one number from the user and checks whether it is an even or odd number?, If it even then prints number is even number else prints that number is odd number."
   ]
  },
  {
   "cell_type": "code",
   "execution_count": 43,
   "id": "5379e542",
   "metadata": {},
   "outputs": [
    {
     "name": "stdout",
     "output_type": "stream",
     "text": [
      "Enter a number: 4385895\n",
      "4385895 is an odd number\n"
     ]
    }
   ],
   "source": [
    "num1=int(input('Enter a number: '))\n",
    "if num1%2==0:\n",
    "    print(num1)\n",
    "else:\n",
    "    print(f'{num1} is an odd number')"
   ]
  },
  {
   "cell_type": "markdown",
   "id": "6fdaacd3",
   "metadata": {},
   "source": [
    "W A P which takes two numbers from the user and prints below output:-\n",
    "1. num1 is greater than num2 if num1 is greater than num2   \n",
    "2. num1 is smaller than num2 if num1 is smaller than num2   \n",
    "3. num1 is equal to num2 if num1 and num2 are equal <br>\n",
    "Note:- \n",
    "1. Do this problem using if - else    \n",
    "2. Do this using ternary operator "
   ]
  },
  {
   "cell_type": "code",
   "execution_count": 6,
   "id": "a36ecfe2",
   "metadata": {},
   "outputs": [
    {
     "name": "stdout",
     "output_type": "stream",
     "text": [
      "Enter the first number: 38438\n",
      "Enter the second number: 43873\n",
      "num1 \"38438\" is smaller than num2 \"43873\"\n",
      "num1 \"38438\" is smaller than num2 \"43873\"\n"
     ]
    }
   ],
   "source": [
    "num1=int(input('Enter the first number: '))\n",
    "num2=int(input('Enter the second number: '))\n",
    "# Using if-else\n",
    "if num1>num2:\n",
    "    print(f'num1 \"{num1}\" is greater than num2 \"{num2}\"')\n",
    "else:\n",
    "    if num1<num2:\n",
    "        print(f'num1 \"{num1}\" is smaller than num2 \"{num2}\"')\n",
    "    else:\n",
    "        print(f'num1 \"{num1}\" is equal to num2 \"{num2}\"')\n",
    "\n",
    "# Using ternary operator\n",
    "res=f'num1 \"{num1}\" is greater than num2 \"{num2}\"' if num1>num2 else(f'num1 \"{num1}\" is smaller than num2 \"{num2}\"' \\\n",
    "if num1<num2 else f'num1 \"{num1}\" is equal to num2 \"{num2}\"')\n",
    "print(res)"
   ]
  },
  {
   "cell_type": "markdown",
   "id": "cadc7cc8",
   "metadata": {},
   "source": [
    " W A P which takes three numbers from the user and prints below output:-    \n",
    " 1. num1 is greater than num2 and num3 if num1 is greater than num2 and num3    \n",
    " 2. num2 is greater than num1 and num3 if num2 is greater than num1 and num3    \n",
    " 3. num3 is greater than num1 and num2 if num3 is greater than num1 and num2  <br>\n",
    " Note:- \n",
    " 1. Do this problem using if - elif - else   \n",
    " 2. Do this using ternary operator <br>\n",
    " a = a if a>b else b "
   ]
  },
  {
   "cell_type": "code",
   "execution_count": 14,
   "id": "0215eb85",
   "metadata": {},
   "outputs": [
    {
     "name": "stdout",
     "output_type": "stream",
     "text": [
      "Enter the first number: 4875\n",
      "Enter the second number: 4584\n",
      "Enter the third number: 4845\n",
      "num1 \"4875\" is greater than num2 \"4584\" and num3 \"4845\"\n",
      "num1 \"4875\" is greater than num2 \"4584\" and num3 \"4845\"\n",
      "num1 \"4875\" = \"4584\"\n"
     ]
    }
   ],
   "source": [
    "num1=int(input('Enter the first number: '))\n",
    "num2=int(input('Enter the second number: '))\n",
    "num3=int(input('Enter the third number: '))\n",
    "# Using if-elif-else\n",
    "if num1>num2 and num1>num3:\n",
    "    print(f'num1 \"{num1}\" is greater than num2 \"{num2}\" and num3 \"{num3}\"')\n",
    "elif num2>num1 and num2>num3:\n",
    "    print(f'num2 \"{num2}\" is greater than num1 \"{num1}\" and num3 \"{num3}\"')\n",
    "else:\n",
    "    print(f'num3 \"{num3}\" is greater than num1 \"{num1}\" and num2 \"{num2}\"')\n",
    "    \n",
    "# Using ternary operator\n",
    "res=f'num1 \"{num1}\" is greater than num2 \"{num2}\" and num3 \"{num3}\"' if num1>num2 and num1>num3 else(f'num2 \"{num2}\" is \\\n",
    "greater than num1 \"{num1}\" and num3 \"{num3}\"' if num2>num1 and num2>num3 else f'num3 \"{num3}\" is greater than \\\n",
    "num1 \"{num1}\" and num2 \"{num2}\"')\n",
    "print(res)\n",
    "\n",
    "\n",
    "res=f'num1 \"{num1}\" = \"{num2}\"' if num1>num2 else f'num2 \"{num2}\"'\n",
    "print(res)"
   ]
  },
  {
   "cell_type": "markdown",
   "id": "7dd03ed0",
   "metadata": {},
   "source": [
    "### Loops- for loop, while loop"
   ]
  },
  {
   "cell_type": "markdown",
   "id": "d160c998",
   "metadata": {},
   "source": [
    " Write a Python program to find the length of the my_str using loop:- <br>\n",
    " Input:- 'Write a Python program to find the length of the my_str' <br>\n",
    " Output:- 55"
   ]
  },
  {
   "cell_type": "code",
   "execution_count": 15,
   "id": "2653d6d4",
   "metadata": {},
   "outputs": [
    {
     "name": "stdout",
     "output_type": "stream",
     "text": [
      "55\n"
     ]
    }
   ],
   "source": [
    "my_str='Write a Python program to find the length of the my_str'\n",
    "count=0\n",
    "for x in my_str:\n",
    "    count+=1\n",
    "print(count)"
   ]
  },
  {
   "cell_type": "markdown",
   "id": "84f7a71e",
   "metadata": {},
   "source": [
    " Write a Python program to find the total number of times letter 'p' is appeared in the below string using loop:-<br>\n",
    " Input:- 'peter piper picked a peck of pickled peppers.\\n' <br>\n",
    " Output:- 9 "
   ]
  },
  {
   "cell_type": "code",
   "execution_count": 16,
   "id": "f024d7af",
   "metadata": {},
   "outputs": [
    {
     "name": "stdout",
     "output_type": "stream",
     "text": [
      "9\n"
     ]
    }
   ],
   "source": [
    "str1='peter piper picked a peck of pickled peppers.\\n'\n",
    "count=0\n",
    "for x in str1:\n",
    "    if x=='p':\n",
    "        count+=1\n",
    "print(count)"
   ]
  },
  {
   "cell_type": "markdown",
   "id": "f9bc56bf",
   "metadata": {},
   "source": [
    " Write a Python Program, to print all the indexes of all occurences of letter 'p' appeared in the string using loop:- <br>  Input:- 'peter piper picked a peck of pickled peppers.'<br>\n",
    " Output:- <br>\n",
    " 0 <br>6 <br>8<br> 12<br> 21<br> 29 <br>37<br> 39 <br>40 "
   ]
  },
  {
   "cell_type": "code",
   "execution_count": 17,
   "id": "e70e8285",
   "metadata": {},
   "outputs": [
    {
     "name": "stdout",
     "output_type": "stream",
     "text": [
      "0\n",
      "6\n",
      "8\n",
      "12\n",
      "21\n",
      "29\n",
      "37\n",
      "39\n",
      "40\n"
     ]
    }
   ],
   "source": [
    "str1='peter piper picked a peck of pickled peppers.'\n",
    "for x in range(len(str1)):\n",
    "    if str1[x]=='p':\n",
    "        print(x)"
   ]
  },
  {
   "cell_type": "markdown",
   "id": "4561023a",
   "metadata": {},
   "source": [
    " Write a python program to find below output using loop:- <br>\n",
    " Input:- 'peter piper picked a peck of pickled peppers.' <br>\n",
    " Output:- ['peter', 'piper', 'picked', 'a', 'peck', 'of', 'pickled', 'peppers']"
   ]
  },
  {
   "cell_type": "code",
   "execution_count": 35,
   "id": "d6475479",
   "metadata": {},
   "outputs": [
    {
     "name": "stdout",
     "output_type": "stream",
     "text": [
      "['peter', 'piper', 'picked', 'a', 'peck', 'of', 'pickled', 'peppers']\n"
     ]
    }
   ],
   "source": [
    "str1='peter piper picked a peck of pickled peppers.'\n",
    "lst1=[] # empty list\n",
    "str2='' # empty string\n",
    "for x in str1:\n",
    "    if x.isalpha(): # if the character is an alphabet, it goes to if block code\n",
    "        str2+=x # the character is being added to the empty string\n",
    "    else:\n",
    "        if str2: # checking if the str2 contains something or is empty\n",
    "            lst1.append(str2) # if it contains comething, it must be a word and so, we append this word to the list lst1\n",
    "            str2='' # resetting the str2 and making it empty for the next word\n",
    "print(lst1)"
   ]
  },
  {
   "cell_type": "markdown",
   "id": "bca71406",
   "metadata": {},
   "source": [
    " Write a python program to find below output using loop:- <br>\n",
    " Input:- 'peter piper picked a peck of pickled peppers.' <br>\n",
    " Output:- 'peppers pickled of peck a picked piper peter'"
   ]
  },
  {
   "cell_type": "code",
   "execution_count": 60,
   "id": "925bbf89",
   "metadata": {},
   "outputs": [
    {
     "name": "stdout",
     "output_type": "stream",
     "text": [
      "peppers pickled of peck a picked piper\n"
     ]
    }
   ],
   "source": [
    "str1='peter piper picked a peck of pickled peppers.'\n",
    "str2=str1.replace('.','') # removing the '.' using 'replece()' method\n",
    "str3=str2.split() # splitting the string which will return the list of split words by default\n",
    "lst1=[]\n",
    "for x in range(len(str3)-1, -1, -1): # range has 3 parameters here\n",
    "# len(str3)-1 => 8-1 => 7\n",
    "# -1 => stop value for LOOP (stop the loop until it reaches -1) WKT the stop value is always exclusive..so, stop-1 => (-1)-1 is 0\n",
    "# -1 => decrement value for LOOP (decrement the index by 1 )\n",
    "    lst1.append(str3[x])\n",
    "res=' '.join(lst1) # joining the list using ' '\n",
    "print(res)"
   ]
  },
  {
   "cell_type": "markdown",
   "id": "411ae5b2",
   "metadata": {},
   "source": [
    " Write a python program to find below output using loop:- <br>\n",
    " Input:- 'peter piper picked a peck of pickled peppers.' <br>\n",
    " Output:- '.sreppep delkcip fo kcep a dekcip repip retep' "
   ]
  },
  {
   "cell_type": "code",
   "execution_count": 62,
   "id": "8b55837e",
   "metadata": {},
   "outputs": [
    {
     "name": "stdout",
     "output_type": "stream",
     "text": [
      ".sreppep delkcip fo kcep a dekcip repip retep\n"
     ]
    }
   ],
   "source": [
    "str1='peter piper picked a peck of pickled peppers.'\n",
    "str2=''\n",
    "for x in range(len(str1)-1,-1,-1) :# range has 3 parameters here\n",
    "# len(str1)-1 => 45-1 => 44\n",
    "# -1 => stop value for LOOP (stop the loop until it reaches -1) WKT the stop value is always exclusive..so, stop-1 => (-1)-1 is 0\n",
    "# -1 => decrement value for LOOP (decrement the index by 1 )\n",
    "    str2+=str1[x] # str2= str2+str1[44]\n",
    "print(str2)"
   ]
  },
  {
   "cell_type": "markdown",
   "id": "186ba1a6",
   "metadata": {},
   "source": [
    " Write a python program to find below output using loop:-<br>\n",
    " Input:- 'peter piper picked a peck of pickled peppers.'<br>\n",
    " Output:- 'retep repip dekcip a kcep fo delkcip sreppep' "
   ]
  },
  {
   "cell_type": "code",
   "execution_count": 71,
   "id": "58f20ca1",
   "metadata": {},
   "outputs": [
    {
     "name": "stdout",
     "output_type": "stream",
     "text": [
      "retep repip dekcip a kcep fo delkcip sreppep\n"
     ]
    }
   ],
   "source": [
    "str1='peter piper picked a peck of pickled peppers.'\n",
    "str2=str1.replace('.','') # removing the '.' using 'replece()' method\n",
    "str3=str2.split() # splitting the string which will return the list of split words by default\n",
    "str4=''\n",
    "lst1=[]\n",
    "for x in str3: # getting word by word from str3\n",
    "    for y in range(len(x)-1,-1,-1): # range has 3 parameters here \n",
    "# len(x)-1 => 5-1 => 4 # the length of the first word is 5\n",
    "# -1 => stop value for LOOP (stop the loop until it reaches -1) WKT the stop value is always exclusive..so, stop-1 => (-1)-1 is 0\n",
    "# -1 => decrement value for LOOP (decrement the index by 1 )\n",
    "        str4+=x[y] # str4= str4+ x[4] # 'x' is the word here\n",
    "    lst1.append(str4) # appending the entire word to the list\n",
    "    str4='' # resetting 'str4' for the next loop\n",
    "res=' '.join(lst1) # joining the list using ' '\n",
    "print(res)"
   ]
  },
  {
   "cell_type": "markdown",
   "id": "7adf0dbd",
   "metadata": {},
   "source": [
    " Write a python program to find below output using loop:- <br>\n",
    " Input:- 'peter piper picked a peck of pickled peppers.' <br>\n",
    " Output:- 'Peter Piper Picked A Peck Of Pickled Peppers' "
   ]
  },
  {
   "cell_type": "code",
   "execution_count": 75,
   "id": "c6e88152",
   "metadata": {},
   "outputs": [
    {
     "name": "stdout",
     "output_type": "stream",
     "text": [
      "Peter Piper Picked A Peck Of Pickled Peppers\n"
     ]
    }
   ],
   "source": [
    "str1='peter piper picked a peck of pickled peppers.'\n",
    "str2=str1.replace('.','') # removing the '.' using 'replece()' method\n",
    "str3=str2.split() # splitting the string which will return the list of split words by default\n",
    "str4=''\n",
    "lst1=[]\n",
    "for x in str3: # getting word by word from str3\n",
    "    for y in range(len(x)): # range(len(5)) => range(4)\n",
    "        if y==0: \n",
    "            str4+=x[y].upper() # converting the 0th index of every word to upper\n",
    "        else:\n",
    "            str4+=x[y] # adding the other index elements as such\n",
    "    lst1.append(str4) # appending the string present in 'str4'\n",
    "    str4='' # resetting 'str4' for the next loop\n",
    "res=' '.join(lst1) # joining the list using ' '\n",
    "print(res)"
   ]
  },
  {
   "cell_type": "markdown",
   "id": "263fd0f6",
   "metadata": {},
   "source": [
    " Write a python program to find below output using loop:- <br>\n",
    " Input:- 'Peter Piper Picked A Peck Of Pickled Peppers.' <br>\n",
    " Output:- 'Peter piper picked a peck of pickled peppers' "
   ]
  },
  {
   "cell_type": "code",
   "execution_count": 81,
   "id": "4dec36a3",
   "metadata": {},
   "outputs": [
    {
     "name": "stdout",
     "output_type": "stream",
     "text": [
      "Peter piper picked a peck of pickled peppers\n"
     ]
    }
   ],
   "source": [
    "str1='Peter Piper Picked A Peck Of Pickled Peppers.'\n",
    "str2=str1.replace('.','') # removing the '.' using 'replece()' method\n",
    "str3=str2.split() # splitting the string which will return the list of split words by default\n",
    "str4=''\n",
    "lst1=[]\n",
    "for x in range(len(str3)): # getting word by word from str3\n",
    "    if x!=0: \n",
    "        for y in range(len(str3[x])): # range(len(5)) => range(4)\n",
    "            if y==0: \n",
    "                str4+=str3[x][y].lower() # converting the 0th index of every word to upper\n",
    "            else:\n",
    "                str4+=str3[x][y] # adding the other index elements as such\n",
    "    else:\n",
    "        str4+=str3[x] # adding the other index elements as such\n",
    "    lst1.append(str4) # appending the string present in 'str4'\n",
    "    str4='' # resetting 'str4' for the next loop\n",
    "res=' '.join(lst1) # joining the list using ' '\n",
    "print(res)"
   ]
  },
  {
   "cell_type": "markdown",
   "id": "8242ffef",
   "metadata": {},
   "source": [
    " Write a python program to implement index method using loop. If sub_str is found in my_str then it will print the index of first occurrence of first character of matching string in my_str:- <br>\n",
    " Input:- my_str = 'Peter Piper Picked A Peck Of Pickled Peppers.', sub_str = 'Pickl'<br>\n",
    " Output:- 29 "
   ]
  },
  {
   "cell_type": "code",
   "execution_count": 92,
   "id": "94a3c66f",
   "metadata": {},
   "outputs": [
    {
     "name": "stdout",
     "output_type": "stream",
     "text": [
      "29\n"
     ]
    }
   ],
   "source": [
    "my_str='Peter Piper Picked A Peck Of Pickled Peppers.'\n",
    "sub_str='Pickl'\n",
    "for x in range(len(my_str)): # range(45)\n",
    "    if my_str[x:x+len(sub_str)]==sub_str: # my_str[0:0+5] => my_str[0:6] == 'Pickl' => 'Peter' == 'Pickl'\n",
    "        print(x)"
   ]
  },
  {
   "cell_type": "markdown",
   "id": "c280acdc",
   "metadata": {},
   "source": [
    "Write a python program to implement replace method using loop. If sub_str is found in my_str then it will replace the first occurrence of sub_str with new_str else it will will print sub_str not found:- <br>\n",
    "Input:- my_str = 'Peter Piper Picked A Peck Of Pickled Peppers.' <br>\n",
    "sub_str = 'Peck', new_str = 'Pack'<br>\n",
    "Output:- 'Peter Piper Picked A Pack Of Pickled Peppers.' "
   ]
  },
  {
   "cell_type": "code",
   "execution_count": 112,
   "id": "4d4bbc05",
   "metadata": {},
   "outputs": [
    {
     "name": "stdout",
     "output_type": "stream",
     "text": [
      "Peter Piper Picked A Pack Of Pickled Peppers.\n"
     ]
    }
   ],
   "source": [
    "my_str='Peter Piper Picked A Peck Of Pickled Peppers.'\n",
    "sub_str='Peck'\n",
    "new_str='Pack'\n",
    "if sub_str in my_str:\n",
    "    res=''\n",
    "    n=0\n",
    "    while n<len(my_str):\n",
    "        if my_str[n:n+len(sub_str)]==sub_str: # my_str[0:0+4] => my_str[0:4] == 'Peck' => 'Pete' == 'Peck'\n",
    "            res+=new_str # new_str will be added to res\n",
    "            n+=len(sub_str) # n will be incremented with the length of the sub_str\n",
    "        else:\n",
    "            res+=my_str[n] # my_str[n] is added to res\n",
    "            n+=1 # incrementing 'n' value\n",
    "    print(res)\n",
    "else:\n",
    "    print(f'Substring \"{sub_str}\" not found')"
   ]
  },
  {
   "cell_type": "markdown",
   "id": "092cea23",
   "metadata": {},
   "source": [
    "Write a python program to find below output (implements rjust and ljust) using loop:- <br>\n",
    "Input:- 'Peter Piper Picked A Peck Of Pickled Peppers.' <br>\n",
    "sub_str = 'Peck' <br>\n",
    "Output:- $'*********************Peck********************'$"
   ]
  },
  {
   "cell_type": "code",
   "execution_count": 1,
   "id": "6864abaa",
   "metadata": {},
   "outputs": [
    {
     "name": "stdout",
     "output_type": "stream",
     "text": [
      "*********************Peck********************\n"
     ]
    }
   ],
   "source": [
    "my_str='Peter Piper Picked A Peck Of Pickled Peppers.'\n",
    "sub_str='Peck'\n",
    "new_str='Pack'\n",
    "if sub_str in my_str:\n",
    "    res=''\n",
    "    n=0\n",
    "    while n<len(my_str):\n",
    "        if my_str[n:n+len(sub_str)]==sub_str: # my_str[0:0+4] => my_str[0:4] == 'Peck' => 'Pete' == 'Peck'\n",
    "            res+=sub_str # new_str will be added to res\n",
    "            n+=len(sub_str) # n will be incremented with the length of the sub_str\n",
    "        else:\n",
    "            res+='*' # my_str[n] is added to res\n",
    "            n+=1 # incrementing 'n' value\n",
    "    print(res)\n",
    "else:\n",
    "    print(f'Substring \"{sub_str}\" not found')"
   ]
  },
  {
   "cell_type": "markdown",
   "id": "0d84a1a5",
   "metadata": {},
   "source": [
    " Write a python program to find below output using loop:- <br>\n",
    " Input:- 'This is Python class' <br>\n",
    " sep = ' is' <br>\n",
    " Output:- ['This', 'is', 'Python class'] "
   ]
  },
  {
   "cell_type": "code",
   "execution_count": 8,
   "id": "27fa858e",
   "metadata": {},
   "outputs": [
    {
     "name": "stdout",
     "output_type": "stream",
     "text": [
      "['This', ' is', 'Python class']\n"
     ]
    }
   ],
   "source": [
    "str1='This is Python class'\n",
    "sep=' is'\n",
    "if sep in str1:\n",
    "    res=''\n",
    "    lst1=[]\n",
    "    n=0\n",
    "    while n<len(str1):\n",
    "        if str1[n:n+len(sep)]==sep:# str1[0:0+4] => str1[0:4] == 'Peck' => 'Pete' == 'Peck'\n",
    "            lst1.append(res)\n",
    "            res=''\n",
    "            lst1.append(sep) # new_str will be added to res\n",
    "            n+=len(sep)+1 # n will be incremented with the length of the sep\n",
    "        else:\n",
    "            res+=str1[n] # str1[n] is added to res\n",
    "            n+=1 # incrementing 'n' value\n",
    "    lst1.append(res)\n",
    "    print(lst1)\n",
    "else:\n",
    "    print(f'Substring \"{sep}\" not found')"
   ]
  }
 ],
 "metadata": {
  "kernelspec": {
   "display_name": "Python 3 (ipykernel)",
   "language": "python",
   "name": "python3"
  },
  "language_info": {
   "codemirror_mode": {
    "name": "ipython",
    "version": 3
   },
   "file_extension": ".py",
   "mimetype": "text/x-python",
   "name": "python",
   "nbconvert_exporter": "python",
   "pygments_lexer": "ipython3",
   "version": "3.11.3"
  }
 },
 "nbformat": 4,
 "nbformat_minor": 5
}
