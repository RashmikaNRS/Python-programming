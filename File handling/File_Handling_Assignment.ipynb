{
 "cells": [
  {
   "cell_type": "code",
   "execution_count": 6,
   "metadata": {},
   "outputs": [
    {
     "name": "stdout",
     "output_type": "stream",
     "text": [
      "A delicate fabric of bird song\n",
      "\n",
      "  Floats in the air,\n",
      "\n",
      "The smell of wet wild earth\n",
      "\n",
      "  Is everywhere.\n",
      "\n",
      "Red small leaves of the maple\n",
      "\n",
      "  Are clenched like a hand,\n",
      "\n",
      "Like girls at their first communion\n",
      "\n",
      "  The pear trees stand.\n",
      "\n",
      "Oh I must pass nothing by\n",
      "\n",
      "  Without loving it much,\n",
      "\n",
      "The raindrop try with my lips,\n",
      "\n",
      "  The grass with my touch;\n",
      "\n",
      "For how can I be sure\n",
      "\n",
      "  I shall see again\n",
      "\n",
      "The world on the first of May\n",
      "\n",
      "  Shining after the rain?\n"
     ]
    }
   ],
   "source": [
    "# Write a function in python to read the content from \n",
    "# a text file \"poem.txt\" line by line and display the same on screen.\n",
    "with open('poem.txt') as f:\n",
    "    for line in f.readlines():\n",
    "        print(line)"
   ]
  },
  {
   "cell_type": "code",
   "execution_count": 19,
   "metadata": {},
   "outputs": [
    {
     "name": "stdout",
     "output_type": "stream",
     "text": [
      "3\n"
     ]
    }
   ],
   "source": [
    "# Write a function in python to count the number of lines \n",
    "# from a text file \"story.txt\" which is not starting with an alphabet \"T\". \n",
    "\n",
    "# Example: If the file \"story.txt\" contains the following lines: A boy is playing there.\n",
    "# There is a playground.\n",
    "# An aeroplane is in the sky.\n",
    "# The sky is pink.\n",
    "# Alphabets and numbers are allowed in the password.\n",
    "# The function should display the output as 3\n",
    "\n",
    "def countfn(storyfile):\n",
    "    total=0\n",
    "    with open(storyfile) as sto:\n",
    "        for line in sto.readlines():\n",
    "            if line[0]=='T':\n",
    "                break\n",
    "            else:\n",
    "                total+=1\n",
    "        return total\n",
    "a=countfn('story.txt')\n",
    "print(a)"
   ]
  },
  {
   "cell_type": "code",
   "execution_count": 20,
   "metadata": {},
   "outputs": [
    {
     "name": "stdout",
     "output_type": "stream",
     "text": [
      "81\n"
     ]
    }
   ],
   "source": [
    "# Write a function in Python to count and display the total number of words in a text file.\n",
    "def wordsfn(wordsfile):\n",
    "    total=0\n",
    "    with open(wordsfile) as wf:\n",
    "        for line in wf.readlines():\n",
    "            a=line.split()\n",
    "            for x in a:\n",
    "                total+=1\n",
    "                a=''\n",
    "        return total\n",
    "res=wordsfn('poem.txt')\n",
    "print(res)"
   ]
  },
  {
   "cell_type": "code",
   "execution_count": 22,
   "metadata": {},
   "outputs": [
    {
     "name": "stdout",
     "output_type": "stream",
     "text": [
      "14\n"
     ]
    }
   ],
   "source": [
    "# Write a function in Python to read lines from a text file \"notes.txt\". \n",
    "# Your function should find and display the occurrence of the word \"the\".\n",
    "\n",
    "# For example: If the content of the file is:\n",
    "# \"India is the fastest-growing economy. India is looking for more investments around the globe. The whole world is looking at India as a great market. Most of the Indians can foresee the heights that India is capable of reaching.\"\n",
    "\n",
    "# The output should be 5.\n",
    "\n",
    "def notesfn(notesfile):\n",
    "    count=0\n",
    "    with open(notesfile) as nf:\n",
    "        for line in nf.readlines():\n",
    "            a=line.split()\n",
    "            for x in a:\n",
    "                if x=='the' or x=='The':\n",
    "                    count+=1\n",
    "                    a=''\n",
    "        return count\n",
    "res=notesfn('notes.txt')\n",
    "print(res)"
   ]
  },
  {
   "cell_type": "code",
   "execution_count": 23,
   "metadata": {},
   "outputs": [
    {
     "name": "stdout",
     "output_type": "stream",
     "text": [
      "was\n",
      "a\n",
      "who\n",
      "all\n",
      "his\n",
      "the\n",
      "in\n",
      "his\n",
      "He\n",
      "his\n",
      "and\n",
      "he\n",
      "his\n",
      "to\n",
      "bed\n",
      "One\n",
      "day\n",
      "a\n",
      "him\n",
      "his\n",
      "the\n",
      "to\n",
      "the\n",
      "all\n",
      "the\n",
      "The\n",
      "the\n",
      "saw\n",
      "all\n",
      "his\n",
      "was\n",
      "and\n",
      "His\n",
      "and\n",
      "him\n",
      "had\n",
      "The\n",
      "him\n",
      "why\n",
      "he\n",
      "the\n",
      "in\n",
      "the\n",
      "it\n",
      "be\n",
      "to\n",
      "The\n",
      "he\n",
      "on\n",
      "the\n",
      "The\n",
      "him\n",
      "he\n",
      "as\n",
      "his\n",
      "as\n",
      "the\n",
      "was\n",
      "as\n"
     ]
    }
   ],
   "source": [
    "# Write a function display_words() in python to read lines from a text file \"story.txt\", \n",
    "# and display those words, which are less than 4 characters.\n",
    "\n",
    "def display_words(storyfile):\n",
    "    with open(storyfile) as sf:\n",
    "        for line in sf.readlines():\n",
    "            a=line.split()\n",
    "            for x in a:\n",
    "                if len(x)<4:\n",
    "                    print(x)\n",
    "                    a=''\n",
    "display_words('story.txt')"
   ]
  },
  {
   "cell_type": "code",
   "execution_count": 26,
   "metadata": {},
   "outputs": [
    {
     "name": "stdout",
     "output_type": "stream",
     "text": [
      "10\n"
     ]
    }
   ],
   "source": [
    "# Write a function in Python to count the words \"this\" and \"these\" present in a text file \"article.txt\". \n",
    "# [Note that the words \"this\" and \"these\" are complete words] \n",
    "def articlefn(articlefile):\n",
    "    count=0\n",
    "    with open(articlefile) as af:\n",
    "        for line in af.readlines():\n",
    "            a=line.split()\n",
    "            for x in a:\n",
    "                if x=='this' or x=='these' or x=='This' or x=='These':\n",
    "                    count+=1\n",
    "                    a=''\n",
    "        return count\n",
    "res=articlefn('article.txt')\n",
    "print(res)"
   ]
  },
  {
   "cell_type": "code",
   "execution_count": 27,
   "metadata": {},
   "outputs": [
    {
     "name": "stdout",
     "output_type": "stream",
     "text": [
      "28\n"
     ]
    }
   ],
   "source": [
    "# Write a function in Python to count words in a text file those are ending with alphabet \"e\"\n",
    "def wordsfn(wordsfile):\n",
    "    count=0\n",
    "    with open(wordsfile) as wf:\n",
    "        for line in wf.readlines():\n",
    "            a=line.split()\n",
    "            for x in a:\n",
    "                if x[len(x)-1]=='e':\n",
    "                    count+=1\n",
    "                    a=''\n",
    "        return count\n",
    "res=wordsfn('notes.txt')\n",
    "print(res)"
   ]
  },
  {
   "cell_type": "code",
   "execution_count": 28,
   "metadata": {},
   "outputs": [
    {
     "name": "stdout",
     "output_type": "stream",
     "text": [
      "19\n"
     ]
    }
   ],
   "source": [
    "# Write a function in Python to count uppercase character in a text file.\n",
    "def countfn(countfile):\n",
    "    count=0\n",
    "    with open(countfile) as cf:\n",
    "        for line in cf.readlines():\n",
    "            for x in line:\n",
    "                if x.isupper():\n",
    "                    count+=1\n",
    "        return count\n",
    "a=countfn('poem.txt')\n",
    "print(a)"
   ]
  },
  {
   "cell_type": "code",
   "execution_count": 29,
   "metadata": {},
   "outputs": [
    {
     "name": "stdout",
     "output_type": "stream",
     "text": [
      "O#n#c#e#,# #t#h#e#r#e# #w#a#s# #a# #m#i#s#e#r# #w#h#o# #w#o#u#l#d# #h#i#d#e# #a#l#l# #h#i#s# #g#o#l#d# #u#n#d#e#r# #t#h#e# #s#t#o#n#e#s# #i#n# #h#i#s# #g#a#r#d#e#n#.# #\n",
      "#H#e# #n#e#v#e#r# #s#p#e#n#t# #h#i#s# #g#o#l#d#,# #a#n#d# #w#i#t#h#o#u#t# #f#a#i#l#,# #h#e# #w#o#u#l#d# #c#o#u#n#t# #h#i#s# #c#o#i#n#s# #b#e#f#o#r#e# #g#o#i#n#g# #t#o# #b#e#d# #e#v#e#r#y# #d#a#y#.# #\n",
      "#O#n#e# #d#a#y# #a# #t#h#i#e#f# #s#p#o#t#t#e#d# #h#i#m# #c#o#u#n#t#i#n#g# #h#i#s# #c#o#i#n#s#.# #A#f#t#e#r# #t#h#e# #m#i#s#e#r# #w#e#n#t# #t#o# #s#l#e#e#p#,# #t#h#e# #t#h#i#e#f# #s#t#o#l#e# #a#l#l# #t#h#e# #g#o#l#d#.# #\n",
      "#T#h#e# #n#e#x#t# #d#a#y#,# #t#h#e# #m#i#s#e#r# #s#a#w# #t#h#a#t# #a#l#l# #h#i#s# #g#o#l#d# #w#a#s# #m#i#s#s#i#n#g# #a#n#d# #s#t#a#r#t#e#d# #w#a#i#l#i#n#g#.# #\n",
      "#H#i#s# #n#e#i#g#h#b#o#u#r#s# #c#a#m#e# #r#u#n#n#i#n#g# #a#n#d# #a#s#k#e#d# #h#i#m# #w#h#a#t# #h#a#d# #h#a#p#p#e#n#e#d#.# #\n",
      "#T#h#e# #n#e#i#g#h#b#o#u#r#s# #a#s#k#e#d# #h#i#m# #w#h#y# #h#e# #d#i#d#n#â#€#™#t# #k#e#e#p# #t#h#e# #g#o#l#d# #i#n# #t#h#e# #h#o#u#s#e# #s#i#n#c#e# #i#t# #w#o#u#l#d# #b#e# #e#a#s#y# #t#o# #a#c#c#e#s#s# #i#n#s#i#d#e#.# #\n",
      "#T#h#e# #m#i#s#e# #r#e#v#e#a#l#e#d# #h#e# #n#e#v#e#r# #p#l#a#n#n#e#d# #o#n# #s#p#e#n#d#i#n#g# #t#h#e# #g#o#l#d#.# #\n",
      "#T#h#e# #n#e#i#g#h#b#o#u#r#s# #t#o#l#d# #h#i#m# #h#e# #m#i#g#h#t# #a#s# #w#e#l#l# #s#a#v#e# #h#i#s# #s#t#o#n#e#s#,# #a#s# #t#h#e# #u#n#u#s#e#d# #g#o#l#d# #w#a#s# #j#u#s#t# #a#s# #u#s#e#l#e#s#s#.#\n"
     ]
    }
   ],
   "source": [
    "# A text file named \"matter.txt\" contains some text, which needs to be displayed such that \n",
    "# every next character is separated by a symbol \"#\". \n",
    "# Write a function definition for hash_display() in Python that would display \n",
    "# the entire content of the file matter.txt in the desired format.\n",
    "\n",
    "# Example :\n",
    "# If the file matter.txt has the following content stored in it :\n",
    "# THE WORLD IS ROUND\n",
    "\n",
    "# The function hash_display() should display the following content :\n",
    "# T#H#E# #W#O#R#L#D# #I#S# #R#O#U#N#D#\n",
    "\n",
    "def hash_display(displayfile):\n",
    "    out=''\n",
    "    with open(displayfile) as df:\n",
    "        for line in df.readlines():\n",
    "            for x in line:\n",
    "                out+=x+'#'\n",
    "        return out\n",
    "a=hash_display('story.txt')\n",
    "print(a)"
   ]
  },
  {
   "cell_type": "code",
   "execution_count": 49,
   "metadata": {},
   "outputs": [
    {
     "name": "stdout",
     "output_type": "stream",
     "text": [
      "The main difference between this and these is that this is used to refer to singular and uncountable nouns, while these is used to refer to plural countable nouns.\n",
      "You would say this necklace to refer to a single necklace, and these necklaces to refer to multiple necklaces. \n",
      "it would be incorrect to say these necklace or this necklaces.\n"
     ]
    }
   ],
   "source": [
    "# Aditi has used a text editing software to type some text. After saving the article as WORDS.TXT, \n",
    "# she realised that she has wrongly typed alphabet J in place of alphabet I everywhere in the article.\n",
    "# Write a function definition for JTOI() in Python that would display the corrected version of entire content \n",
    "# of the file WORDS.TXT with all the alphabets \"J\" to be displayed as an alphabet \"I\" on screen.\n",
    "\n",
    "# Note: Assuming that WORD.TXT does not contain any J alphabet otherwise.\n",
    "\n",
    "# Example:\n",
    "# If Aditi has stored the following content in the file WORDS.TXT:\n",
    "# WELL, THJS JS A WORD BY JTSELF. YOU COULD STRETCH THJS TO BE A SENTENCE\n",
    "# The function JTOI() should display the following content:\n",
    "# WELL, THIS IS A WORD BY ITSELF. YOU COULD STRETCH THIS TO BE A SENTENCE\n",
    "\n",
    "def jtoi(wordsfile):\n",
    "    out=''\n",
    "    with open(wordsfile) as wf:\n",
    "        for line in wf.readlines():\n",
    "            for x in line:\n",
    "                if x=='j':\n",
    "                    out+='i'\n",
    "                else:\n",
    "                    out+=x\n",
    "        print(out)\n",
    "jtoi('words1.txt')"
   ]
  },
  {
   "cell_type": "code",
   "execution_count": 50,
   "metadata": {},
   "outputs": [
    {
     "name": "stdout",
     "output_type": "stream",
     "text": [
      "A or a: 35\n",
      "M or m : 11\n"
     ]
    }
   ],
   "source": [
    "# Write a function AMCount() in Python, which should read each character of a text file STORY.TXT, \n",
    "# should count and display the occurance of alphabets A and M (including small cases a and m too).\n",
    "# For Example:\n",
    "# If the file content is as follows:\n",
    "# Updated information\n",
    "# As simplified by official websites.\n",
    "# The EUCount() function should display the output as:\n",
    "# A or a:4\n",
    "# M or m :2\n",
    "\n",
    "def AMCount(countfile):\n",
    "    countm=0\n",
    "    counta=0\n",
    "    with open(countfile) as cf:\n",
    "        for line in cf:\n",
    "            for x in line:\n",
    "                if x=='m' or x=='M':\n",
    "                    countm+=1\n",
    "                elif x=='a' or x=='A':\n",
    "                    counta+=1\n",
    "                x=''\n",
    "        print(f'A or a: {counta}')\n",
    "        print(f'M or m : {countm}')\n",
    "AMCount('story.txt')                    "
   ]
  },
  {
   "cell_type": "code",
   "execution_count": null,
   "metadata": {},
   "outputs": [],
   "source": [
    "# A binary file \"Book.dat\" has structure [BookNo, Book_Name, Author, Price].\n",
    "# i. Write a user defined function createFile() to input data for a record and add to Book.dat.\n",
    "# ii. Write a function countRec(Author) in Python which accepts the Author name as parameter \n",
    "# and count and return number of books by the given Author are stored in the binary file \"Book.dat\"\n",
    "\n"
   ]
  },
  {
   "cell_type": "code",
   "execution_count": null,
   "metadata": {},
   "outputs": [],
   "source": [
    "# A binary file \"STUDENT.DAT\" has structure (admission_number, Name, Percentage). \n",
    "# Write a function count_rec() in Python that would read contents of the file \"STUDENT.DAT\" \n",
    "# and display the details of those students whose percentage is above 75. \n",
    "# Also display number of students scoring above 75%"
   ]
  },
  {
   "cell_type": "code",
   "execution_count": null,
   "metadata": {},
   "outputs": [],
   "source": [
    "# Given a binary file employee.dat, created using dictionary object having keys: (empcode, name, and salary)\n",
    "\n",
    "# Write a python function that add one more record at the end of file.\n",
    "# Write a python function that display all employee records whose salary is more that 30000\n"
   ]
  },
  {
   "cell_type": "code",
   "execution_count": null,
   "metadata": {},
   "outputs": [],
   "source": [
    "# Write a function to search and display details of student whose rollno is '1005' \n",
    "# from the binary file student.dat having structure [rollno, name, class and fees]."
   ]
  },
  {
   "cell_type": "code",
   "execution_count": null,
   "metadata": {},
   "outputs": [],
   "source": [
    "# A binary file school.dat has structure(rollno, name, class, fees)\n",
    "\n",
    "# Write a definition for function total_fees( ) that reads each object of file and calculate \n",
    "# the total fees of students and display the same."
   ]
  },
  {
   "cell_type": "code",
   "execution_count": null,
   "metadata": {},
   "outputs": [],
   "source": [
    "# A binary file players.dat, containing records of following list format: [code, name, country and total runs]\n",
    "\n",
    "# 1. Write a python function that display all records where player name starts from 'A'\n",
    "# 2. Write a python function that accept country as an argument and count and display \n",
    "#     the number of players of that country.\n",
    "# 3. Write a python function that add one record at the end of file."
   ]
  },
  {
   "cell_type": "code",
   "execution_count": 1,
   "metadata": {
    "ExecuteTime": {
     "end_time": "2021-05-29T10:46:59.140338Z",
     "start_time": "2021-05-29T10:46:59.135100Z"
    }
   },
   "outputs": [],
   "source": [
    "# Given a binary file game.dat, containing records of following list format: [game_name, participants]\n",
    "\n",
    "# Write a function in Python that would read contents from the file game.dat and \n",
    "# creates a file named basket.dat copying only those records from game.dat where the game name is \"Basket Ball\""
   ]
  }
 ],
 "metadata": {
  "kernelspec": {
   "display_name": "Python 3 (ipykernel)",
   "language": "python",
   "name": "python3"
  },
  "language_info": {
   "codemirror_mode": {
    "name": "ipython",
    "version": 3
   },
   "file_extension": ".py",
   "mimetype": "text/x-python",
   "name": "python",
   "nbconvert_exporter": "python",
   "pygments_lexer": "ipython3",
   "version": "3.11.3"
  }
 },
 "nbformat": 4,
 "nbformat_minor": 2
}
