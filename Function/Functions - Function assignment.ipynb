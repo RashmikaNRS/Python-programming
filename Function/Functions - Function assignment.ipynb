{
 "cells": [
  {
   "cell_type": "code",
   "execution_count": 5,
   "metadata": {
    "id": "1YVTYu-CuCOO"
   },
   "outputs": [
    {
     "name": "stdout",
     "output_type": "stream",
     "text": [
      "7\n"
     ]
    }
   ],
   "source": [
    "# Define a function calls addNumber(x, y) that takes in two number and returns the sum of the two numbers.\n",
    "def addNumber(x,y):\n",
    "    return x+y # adding two numbers\n",
    "res=addNumber(2,5)\n",
    "print(res)"
   ]
  },
  {
   "cell_type": "code",
   "execution_count": 7,
   "metadata": {
    "id": "1-gIq-Rju2i2"
   },
   "outputs": [
    {
     "name": "stdout",
     "output_type": "stream",
     "text": [
      "-3\n"
     ]
    }
   ],
   "source": [
    "# Define a function calls subtractNumber(x, y) that takes in two numbers and returns the difference of the two numbers.\n",
    "def subtractNumber(x,y):\n",
    "    return x-y # subtracting two numbers\n",
    "res=subtractNumber(2,5)\n",
    "print(res)"
   ]
  },
  {
   "cell_type": "code",
   "execution_count": 8,
   "metadata": {
    "id": "kiAE0iLbviG9"
   },
   "outputs": [
    {
     "name": "stdout",
     "output_type": "stream",
     "text": [
      "5\n"
     ]
    }
   ],
   "source": [
    "# Write a function getBiggerNumber(x, y) that takes in two numbers as arguments and returns the bigger number.\n",
    "def getBiggerNumber(x,y):\n",
    "    if x>y:\n",
    "        return x # 'x' is the bigger number\n",
    "    else:\n",
    "        return y # 'y' is the bigger number\n",
    "res=getBiggerNumber(2,5)\n",
    "print(res)"
   ]
  },
  {
   "cell_type": "code",
   "execution_count": 11,
   "metadata": {
    "id": "10B5oVcZh16d"
   },
   "outputs": [
    {
     "name": "stdout",
     "output_type": "stream",
     "text": [
      "4.0\n",
      "243\n",
      "28.274333882308138\n"
     ]
    }
   ],
   "source": [
    "# Python provides many built-in modules with many useful functions. \n",
    "# One such module is the math module. The math module provides many useful functions such as sqrt(x), pow(x, y), ceil(x), floor(x) etc. \n",
    "# You will need to do a \"import math\" before you are allowed to use the functions within the math module.\n",
    "import math\n",
    "# Calculate the square root of 16 and stores it in the variable a\n",
    "def sqrt(x):\n",
    "    return x**(1/2) # sqrt of 'x'\n",
    "a=sqrt(16)\n",
    "print(a)\n",
    "# Calculate 3 to the power of 5 and stores it in the variable b\n",
    "def pow(x,y):\n",
    "    return x**y # 'x' to the power of 'y'\n",
    "b=pow(3,5)\n",
    "print(b)\n",
    "# Calculate area of circle with radius = 3.0 by making use of the math.pi constant and store it in the variable c\n",
    "def area(r):\n",
    "    return math.pi*r*r # math.pi=3.14\n",
    "c=area(3.0)\n",
    "print(c)"
   ]
  },
  {
   "cell_type": "code",
   "execution_count": 71,
   "metadata": {
    "id": "Yado0B99h2E_"
   },
   "outputs": [
    {
     "name": "stdout",
     "output_type": "stream",
     "text": [
      "'82.40'\n",
      "'32.00'\n"
     ]
    }
   ],
   "source": [
    "# Write a function to convert temperature from Celsius to Fahrenheit scale.\n",
    "# oC to oF Conversion: Multipy by 9, then divide by 5, then add 32.\n",
    "\n",
    "# Note: Return a string of 2 decimal places.\n",
    "# In - Cel2Fah(28.0)\n",
    "# Out - '82.40'\n",
    "def Cel2Fah(x):\n",
    "    return ((x*9)/5)+32 # multipy by 9, then divide by 5, then add 32\n",
    "a=Cel2Fah(28.0)\n",
    "b='{:.2f}'.format(a) # formatting it to two decimal places in floating point\n",
    "print(f\"'{b}'\") # printing it as a string along with single quotes\n",
    "\n",
    "# In - Cel2Fah(0.00)\n",
    "# Out - '32.00'\n",
    "a=Cel2Fah(0.00)\n",
    "b='{:.2f}'.format(a)\n",
    "print(f\"'{b}'\")"
   ]
  },
  {
   "cell_type": "code",
   "execution_count": 70,
   "metadata": {
    "id": "n7lsFol9h2ID"
   },
   "outputs": [
    {
     "name": "stdout",
     "output_type": "stream",
     "text": [
      "'21.8'\n",
      "'27.5'\n"
     ]
    }
   ],
   "source": [
    "# Write a function to compute the BMI of a person.\n",
    "#     BMI = weight(kg)  /  ( height(m)*height(m) )\n",
    "\n",
    "# Note: Return a string of 1 decimal place.\n",
    "# In - BMI(63, 1.7)\n",
    "# Out - '21.8'\n",
    "def BMI(x,y):\n",
    "    return x/(y*y) # weight(kg) / (height(m)*height(m))\n",
    "a=BMI(63,1.7)\n",
    "b='{:.1f}'.format(a) # formatting it to one decimal place in floating point\n",
    "print(f\"'{b}'\") # printing it as a string along with single quotes\n",
    "\n",
    "# In - BMI(110, 2)\n",
    "# Out - '27.5'\n",
    "a=BMI(110,2)\n",
    "b='{:.1f}'.format(a)\n",
    "print(f\"'{b}'\")"
   ]
  },
  {
   "cell_type": "code",
   "execution_count": 68,
   "metadata": {
    "id": "f2tV1AU8h2LN"
   },
   "outputs": [
    {
     "name": "stdout",
     "output_type": "stream",
     "text": [
      "51\n",
      "100\n",
      "525\n"
     ]
    }
   ],
   "source": [
    "# Write a function percent(value, total) that takes in two numbers as arguments, and returns the percentage value as an integer.\n",
    "# In - percent(46, 90)\n",
    "# Out - 51\n",
    "def percent(value,total):\n",
    "    return int((value/total)*100) # percentage=(value/total)*100\n",
    "a=percent(46,90)\n",
    "print(a)\n",
    "\n",
    "# In - percent(51, 51)\n",
    "# Out - 100\n",
    "a=percent(51,51)\n",
    "print(a)\n",
    "\n",
    "# In - percent(63, 12)\n",
    "# Out - 525\n",
    "a=percent(63,12)\n",
    "print(a)"
   ]
  },
  {
   "cell_type": "code",
   "execution_count": 72,
   "metadata": {
    "id": "QyoWR3dQh2OZ"
   },
   "outputs": [
    {
     "name": "stdout",
     "output_type": "stream",
     "text": [
      "5\n",
      "13\n"
     ]
    }
   ],
   "source": [
    "# Write a function to compute the hypotenuse given sides a and b of the triangle.\n",
    "# Hint: You can use math.sqrt(x) to compute the square root of x.\n",
    "# c**2 = a**2 + b**2\n",
    "# so, c=sqrt(a**2 + b**2)\n",
    "# In - hypotenuse(3, 4)\n",
    "# Out - 5\n",
    "import math\n",
    "def hypotenuse(x,y):\n",
    "    return int(math.sqrt(x**2+y**2)) # sqrt of (x to the power 2+y to the power 2)\n",
    "a=hypotenuse(3,4)\n",
    "print(a)\n",
    "\n",
    "# In - hypotenuse(5, 12)\n",
    "# Out - 13\n",
    "a=hypotenuse(5,12)\n",
    "print(a)"
   ]
  },
  {
   "cell_type": "code",
   "execution_count": 73,
   "metadata": {
    "id": "XthPUigkh2Ro"
   },
   "outputs": [
    {
     "name": "stdout",
     "output_type": "stream",
     "text": [
      "9\n",
      "10\n"
     ]
    }
   ],
   "source": [
    "# Write a function getSumOfLastDigits() that takes in a list of positive numbers and returns the sum of all the last digits in the list.\n",
    "# getSumOfLastDigits([2, 3, 4])\n",
    "# 9\n",
    "def getSumOfLastDigits(num):\n",
    "    count=0\n",
    "    for x in num:\n",
    "        lastdig=x%10 # when every number is done mod of 10, we get the last digit as its reminder\n",
    "        count+=lastdig # adding the reminders to the 'count' variable to get its sum\n",
    "    return count\n",
    "a=getSumOfLastDigits([2,3,4])\n",
    "print(a)\n",
    "\n",
    "# getSumOfLastDigits([1, 23, 456])\n",
    "# 10\n",
    "a=getSumOfLastDigits([1, 23, 456])\n",
    "print(a)"
   ]
  },
  {
   "cell_type": "code",
   "execution_count": 40,
   "metadata": {
    "id": "T-uIqm9Mh2Un"
   },
   "outputs": [
    {
     "name": "stdout",
     "output_type": "stream",
     "text": [
      "'My name is Lim. I am 20 years old'\n",
      "'My name is Ahmad. My age is secret'\n"
     ]
    }
   ],
   "source": [
    "# Write a function that uses a default value.\n",
    "# In - introduce('Lim', 20)\n",
    "# Out - 'My name is Lim. I am 20 years old.'\n",
    "def introduce(x,y='secret'): # y is set to 'secret' in function definition\n",
    "    return f'My name is {x}. I am {y} years old'\n",
    "a=introduce('Lim',20) # argument is given in function call..\n",
    "# So, this will be taken as the argument and not the default one\n",
    "print(f\"'{a}'\")\n",
    "\n",
    "# In - introduce('Ahmad')\n",
    "# Out - 'My name is Ahmad. My age is secret.'\n",
    "def introduce(x,y='secret'):\n",
    "    return f'My name is {x}. My age is {y}'\n",
    "a=introduce('Ahmad')\n",
    "print(f\"'{a}'\")"
   ]
  },
  {
   "cell_type": "code",
   "execution_count": 74,
   "metadata": {
    "id": "h0pXo5vH6wA-"
   },
   "outputs": [
    {
     "name": "stdout",
     "output_type": "stream",
     "text": [
      "False\n",
      "True\n",
      "False\n"
     ]
    }
   ],
   "source": [
    "# Write a function isEquilateral(x, y, z) that accepts the 3 sides of a triangle as arguments. \n",
    "# The program should return True if it is an equilateral triangle.\n",
    "\n",
    "# In - isEquilateral(2, 4, 3)\n",
    "# Out - False\n",
    "def isEquilateral(x,y,z):\n",
    "    if x>0 and y>0 and z>0: # checking if all the sides of the triangle are > 0\n",
    "        if x==y==z: # checking if all the three sides are equal\n",
    "            return True\n",
    "        else:\n",
    "            return False\n",
    "    else:\n",
    "        return False\n",
    "a=isEquilateral(2,4,3)\n",
    "print(a)\n",
    "\n",
    "# In - isEquilateral(3, 3, 3)\n",
    "# Out - True\n",
    "a=isEquilateral(3,3,3)\n",
    "print(a)\n",
    "\n",
    "# In - isEquilateral(-3, -3, -3)\n",
    "# Out - False\n",
    "a=isEquilateral(-3,-3,-3)\n",
    "print(a)"
   ]
  },
  {
   "cell_type": "code",
   "execution_count": 75,
   "metadata": {
    "id": "3NvcKCkn6wFy"
   },
   "outputs": [
    {
     "name": "stdout",
     "output_type": "stream",
     "text": [
      "'The discriminant is -8'\n",
      "'The discriminant is 1'\n",
      "'The discriminant is 0'\n"
     ]
    }
   ],
   "source": [
    "# For a quadratic equation in the form of ax2+bx+c, the discriminant, D is b2-4ac. Write a function to compute the discriminant, D.\n",
    "# In - quadratic(1, 2, 3)\n",
    "# Out - 'The discriminant is -8.'\n",
    "def quadratic(a,b,c):\n",
    "    return (b**2)-(4*a*c) # (b**2)-(4*a*c) is the discriminant\n",
    "a=quadratic(1,2,3)\n",
    "print(f\"'The discriminant is {a}'\")\n",
    "\n",
    "# In - quadratic(1, 3, 2)\n",
    "# Out - 'The discriminant is 1.'\n",
    "a=quadratic(1,3,2)\n",
    "print(f\"'The discriminant is {a}'\")\n",
    "\n",
    "# In - quadratic(1, 4, 4)\n",
    "# Out - 'The discriminant is 0.'\n",
    "a=quadratic(1,4,4)\n",
    "print(f\"'The discriminant is {a}'\")"
   ]
  },
  {
   "cell_type": "code",
   "execution_count": 63,
   "metadata": {
    "colab": {
     "base_uri": "https://localhost:8080/",
     "height": 34
    },
    "id": "ihmuttBS6wJQ",
    "outputId": "0ef031e9-dec6-4ffe-b1ea-38d836dbcdcf"
   },
   "outputs": [
    {
     "name": "stdout",
     "output_type": "stream",
     "text": [
      "0\n",
      "5\n",
      "10\n"
     ]
    }
   ],
   "source": [
    "# Define a function calls addFirstAndLast(x) that takes in a list of numbers and returns the sum of the first and last numbers.\n",
    "# In - addFirstAndLast([])\n",
    "# Out - 0\n",
    "def addFirstAndLast(lst):\n",
    "    count=0 # to store the sum\n",
    "    if lst==[]:\n",
    "        return 0\n",
    "    else:\n",
    "        for x in range(len(lst)): \n",
    "            if x==0 or x==len(lst)-1: # if x==0(first number) or x==len(lst)-1(last number)\n",
    "                count+=lst[x] # adding the numbers and storing it in count\n",
    "    return count\n",
    "a=addFirstAndLast([])\n",
    "# In - addFirstAndLast([2, 7, 3])\n",
    "# Out - 5\n",
    "b=addFirstAndLast([2,7,3])\n",
    "# In - addFirstAndLast([10])\n",
    "# Out - 10\n",
    "c=addFirstAndLast([10])\n",
    "print(a)\n",
    "print(b)\n",
    "print(c)"
   ]
  },
  {
   "cell_type": "code",
   "execution_count": 65,
   "metadata": {
    "colab": {
     "base_uri": "https://localhost:8080/",
     "height": 34
    },
    "id": "lEt9HNPI6wM0",
    "outputId": "b07e15c3-a864-454c-aef5-1f1f0e07b39a"
   },
   "outputs": [
    {
     "name": "stdout",
     "output_type": "stream",
     "text": [
      "True\n"
     ]
    }
   ],
   "source": [
    "# Complete the 'lambda' expression so that it returns True if the argument is an even number, and False otherwise.\n",
    "a=(lambda num : True if num%2==0 else False)(6) # if num%2==0(if num is even), return True\n",
    "print(a)"
   ]
  },
  {
   "cell_type": "code",
   "execution_count": 67,
   "metadata": {
    "colab": {
     "base_uri": "https://localhost:8080/",
     "height": 35
    },
    "id": "JYWSZXPg6wQN",
    "outputId": "7b71e08d-573f-4d03-d5e3-e220df4c3b90"
   },
   "outputs": [
    {
     "name": "stdout",
     "output_type": "stream",
     "text": [
      "'A function that computes and returns the final score.\n"
     ]
    }
   ],
   "source": [
    "# Get the documentation of below function\n",
    "def getScore():\n",
    "  ''''A function that computes and returns the final score.'''\n",
    "a=getScore.__doc__\n",
    "print(a)"
   ]
  },
  {
   "cell_type": "code",
   "execution_count": 76,
   "metadata": {
    "colab": {
     "base_uri": "https://localhost:8080/",
     "height": 34
    },
    "id": "zmi81hi76wTK",
    "outputId": "232b4456-63ad-4582-d2cd-d888952dc957"
   },
   "outputs": [
    {
     "name": "stdout",
     "output_type": "stream",
     "text": [
      "25\n",
      "100\n",
      "1\n"
     ]
    }
   ],
   "source": [
    "# In Python, it is possible to pass a function as a argument to another function. \n",
    "# Write a function useFunction(func, num) that takes in a function and a number as arguments. \n",
    "# The useFunction should produce the output shown in the examples given below.\n",
    "\n",
    "# def addOne(x):\n",
    "#   return x + 1\n",
    "# useFunction(addOne, 4)\n",
    "# 25\n",
    "def addOne(x):\n",
    "    return x+1 \n",
    "def useFunction(func,num): \n",
    "    return addOne(num)**2 # addOne(num) is addOne(4)\n",
    "# addOne(4) returns x+1 which is 5\n",
    "# So, addOne(num) is 5 **2\n",
    "a=useFunction(addOne,4) # addOne is passed to func\n",
    "print(a)\n",
    "\n",
    "# useFunction(addOne, 9)\n",
    "# 100\n",
    "a=useFunction(addOne,9)\n",
    "print(a)\n",
    "\n",
    "# useFunction(addOne, 0)\n",
    "# 1\n",
    "a=useFunction(addOne,0)\n",
    "print(a)"
   ]
  },
  {
   "cell_type": "code",
   "execution_count": 6,
   "metadata": {
    "id": "JJm1zFMX6wWK"
   },
   "outputs": [
    {
     "name": "stdout",
     "output_type": "stream",
     "text": [
      "Enter the first number: 34\n",
      "Enter the second number: 47\n",
      "Enter the third number: 23\n",
      "47\n"
     ]
    }
   ],
   "source": [
    "# Write a function find_max that accepts three numbers as arguments and returns the largest number among three. \n",
    "# Write another function main, in main() function accept three numbers from user and call find_max.\n",
    "def find_max(x,y,z):\n",
    "    if x>y and x>z:\n",
    "        return z\n",
    "    elif y>x and y>z:\n",
    "        return y\n",
    "    else:\n",
    "        return z\n",
    "def main():\n",
    "    a=int(input('Enter the first number: '))\n",
    "    b=int(input('Enter the second number: '))\n",
    "    c=int(input('Enter the third number: '))\n",
    "    res=find_max(a,b,c)\n",
    "    return res\n",
    "i=main()\n",
    "print(i)"
   ]
  },
  {
   "cell_type": "code",
   "execution_count": 10,
   "metadata": {
    "colab": {
     "base_uri": "https://localhost:8080/",
     "height": 34
    },
    "id": "PBvBwg0O6waD",
    "outputId": "57768b69-c749-4d88-be06-7a9d41a98de2"
   },
   "outputs": [
    {
     "name": "stdout",
     "output_type": "stream",
     "text": [
      "Enter a string: colours\n",
      "3\n",
      "True\n"
     ]
    }
   ],
   "source": [
    "# Write a function, is_vowel that returns the value true if a given character is a vowel, \n",
    "# and otherwise returns false. \n",
    "vowels=['a','e','i','o','u','A','E','I','O','U']\n",
    "def is_vowel(x):\n",
    "    if x in vowels:\n",
    "        return True\n",
    "    else:\n",
    "        return False\n",
    "a=main()\n",
    "print(a)\n",
    "\n",
    "# Write another function main, in main() function accept a string from user and count number \n",
    "# of vowels in that string.\n",
    "def main():\n",
    "    a=input('Enter a string: ')\n",
    "    count=0 # to store the number of vowels\n",
    "    for i in a:\n",
    "        if i in vowels: # checks if every char of the string is present in the vowels list\n",
    "            count+=1 # incrementing the count if present\n",
    "    return count\n",
    "b=is_vowel('U')\n",
    "print(b)"
   ]
  },
  {
   "cell_type": "code",
   "execution_count": 35,
   "metadata": {
    "scrolled": false
   },
   "outputs": [
    {
     "name": "stdout",
     "output_type": "stream",
     "text": [
      "True\n",
      "2\n",
      "3\n",
      "5\n",
      "7\n",
      "11\n",
      "13\n",
      "17\n",
      "19\n",
      "23\n",
      "29\n",
      "31\n",
      "37\n",
      "41\n",
      "43\n",
      "47\n",
      "53\n",
      "59\n",
      "61\n",
      "67\n",
      "71\n",
      "73\n",
      "79\n",
      "83\n",
      "89\n",
      "97\n",
      "101\n",
      "103\n",
      "107\n",
      "109\n",
      "113\n",
      "127\n",
      "131\n",
      "137\n",
      "139\n",
      "149\n",
      "151\n",
      "157\n",
      "163\n",
      "167\n",
      "173\n",
      "179\n",
      "181\n",
      "191\n",
      "193\n",
      "197\n",
      "199\n",
      "211\n",
      "223\n",
      "227\n",
      "229\n",
      "233\n",
      "239\n",
      "241\n",
      "251\n",
      "257\n",
      "263\n",
      "269\n",
      "271\n",
      "277\n",
      "281\n",
      "283\n",
      "293\n",
      "307\n",
      "311\n",
      "313\n",
      "317\n",
      "331\n",
      "337\n",
      "347\n",
      "349\n",
      "353\n",
      "359\n",
      "367\n",
      "373\n",
      "379\n",
      "383\n",
      "389\n",
      "397\n",
      "401\n",
      "409\n",
      "419\n",
      "421\n",
      "431\n",
      "433\n",
      "439\n",
      "443\n",
      "449\n",
      "457\n",
      "461\n",
      "463\n",
      "467\n",
      "479\n",
      "487\n",
      "491\n",
      "499\n"
     ]
    }
   ],
   "source": [
    "# Write a function named is_prime, which takes an integer as an argument and returns true \n",
    "# if the argument is a prime number, or false otherwise. \n",
    "def is_prime(num):\n",
    "    if num>1:\n",
    "        for i in range(2,num): # we start the range from 2 because 1 is neither prime nor composite\n",
    "            if (num%i)==0: # if the target number is divisible by any of the numbers in its range, then it is not a prime\n",
    "                return False\n",
    "        return True\n",
    "a=is_prime(101)\n",
    "print(a)\n",
    "\n",
    "# Also, write the main function that displays prime numbers between 1 to 500.\n",
    "def main(low,high):\n",
    "    for x in range(low+1,high+1): # for traversing through each value in the interval\n",
    "# we cannot have 1 in the prime numbers. so, we give low+1; high+1 is to include the last value as well\n",
    "# we take each value in the given interval\n",
    "        for y in range(2,x): # for traversing through all the numbers inorder to take mod\n",
    "# we take each value from 2 till the number that is currently in the previous loop\n",
    "            if (x%y)==0: # if number gets divisible by any of the values from the current loop, then it is not a prime\n",
    "                break\n",
    "        else:\n",
    "            print(x)\n",
    "main(1,500)"
   ]
  },
  {
   "cell_type": "code",
   "execution_count": 38,
   "metadata": {},
   "outputs": [
    {
     "name": "stdout",
     "output_type": "stream",
     "text": [
      "801\n"
     ]
    }
   ],
   "source": [
    "# Write a function in python to find the sum of the cube of elements in a list. \n",
    "# The list is received as an argument to the function, in turn, the function must return the sum. \n",
    "# Write the main function which invokes the above function.\n",
    "def elemcube(num):\n",
    "    total=0 # to store the sum\n",
    "    for x in num:\n",
    "        a=x**3 # taking cube of each number in the list\n",
    "        total+=a # adding the cube values\n",
    "    return total\n",
    "def main():\n",
    "    b=elemcube([4,2,8,0,1,6])\n",
    "    print(b)\n",
    "main()"
   ]
  },
  {
   "cell_type": "code",
   "execution_count": 40,
   "metadata": {},
   "outputs": [
    {
     "name": "stdout",
     "output_type": "stream",
     "text": [
      "600\n"
     ]
    }
   ],
   "source": [
    "# Write the definition of a function zero_ending(scores) to add all those values in the list of scores, \n",
    "# which are ending with zero and display the sum.\n",
    "# For example: If the scores contain [200, 456, 300, 100, 234, 678] The sum should be displayed as 600\n",
    "def zero_ending(scores):\n",
    "    total=0 # to store the sum\n",
    "    for x in scores:\n",
    "        if x%10==0: # we know that when any number ends with 0, then it is divisible by 10\n",
    "# So, we do mod 10 for each number and if it is True, then they will be summed up\n",
    "            total+=x # # adding the numbers that end with 0\n",
    "    return total\n",
    "a=zero_ending([200, 456, 300, 100, 234, 678])\n",
    "print(a)"
   ]
  },
  {
   "cell_type": "code",
   "execution_count": 77,
   "metadata": {},
   "outputs": [
    {
     "name": "stdout",
     "output_type": "stream",
     "text": [
      "LONDON\n",
      "NEW YORK\n"
     ]
    }
   ],
   "source": [
    "# Write a definition of a method count_now(places) to find and display those place names, \n",
    "# in which there are more than 5 characters.\n",
    "\n",
    "# For example :\n",
    "# If the list places contains\n",
    "# [\"DELHI\",\"LONDON\",\"PARIS\",\"NEW YORK\",\"DUBAI\"]\n",
    "# The following should get displayed :\n",
    "# LONDON\n",
    "# NEW YORK\n",
    "def count_now(places):\n",
    "    for x in places:\n",
    "        if len(x)>5:\n",
    "            print(x)\n",
    "count_now([\"DELHI\",\"LONDON\",\"PARIS\",\"NEW YORK\",\"DUBAI\"])"
   ]
  },
  {
   "cell_type": "code",
   "execution_count": 43,
   "metadata": {},
   "outputs": [
    {
     "name": "stdout",
     "output_type": "stream",
     "text": [
      "414141\n",
      "DROND#\n",
      "GIRIRAJ#\n",
      "131313\n",
      "ZARA#\n"
     ]
    }
   ],
   "source": [
    "# Write a method in python to display the elements of list thrice if it is a number and display \n",
    "# the element terminated with ‘#’ if it is not a number.\n",
    "\n",
    "# For example, if the content of list is as follows :\n",
    "# ThisList=[‘41’,‘DROND’,‘GIRIRAJ’, ‘13’,‘ZARA’]\n",
    "# The output should be\n",
    "# 414141\n",
    "# DROND#\n",
    "# GIRIRAJ#\n",
    "# 131313\n",
    "# ZARA#\n",
    "def display(lst1):\n",
    "    for x in lst1:\n",
    "        if x.isnumeric(): # checking if the element is numeric\n",
    "            print(x*3) # printing the element thrice\n",
    "        else:\n",
    "            print(x+'#') # printing the element along with '#' at the end\n",
    "display(['41','DROND','GIRIRAJ', '13','ZARA'])"
   ]
  },
  {
   "cell_type": "code",
   "execution_count": 49,
   "metadata": {},
   "outputs": [
    {
     "name": "stdout",
     "output_type": "stream",
     "text": [
      "11\n"
     ]
    }
   ],
   "source": [
    "# For a given list of values in descending order, write a method in python to search \n",
    "# for a value with the help of Binary Search method. \n",
    "# The method should return position of the value and should return -1 if the value not present in the list.\n",
    "def search(lst1,tosearch):\n",
    "    if tosearch in lst1: # checking if the value to search is present in the given list\n",
    "        for x in lst1:\n",
    "            if x==tosearch: # checking if the value == tosearch\n",
    "                return lst1.index(x) # returning the index of the value\n",
    "    else:\n",
    "        return -1 # if the value to search is not present in the given list\n",
    "a=search([21,30,58,34,38,30,23,98,29,49,37,48,76,87],48)\n",
    "print(a)"
   ]
  },
  {
   "cell_type": "code",
   "execution_count": 54,
   "metadata": {},
   "outputs": [
    {
     "name": "stdout",
     "output_type": "stream",
     "text": [
      "[40, 50, 60, 10, 20, 30]\n",
      "[50, 60, 70, 40, 10, 20, 30]\n"
     ]
    }
   ],
   "source": [
    "# Write a function half_and_half that takes in a list and change the list \n",
    "# such that the elements of the second half are now in the first half.\n",
    "\n",
    "# For example, if the size of list is even and content of list is as follows :\n",
    "# my_liist = [10,20,30,40,50,60]\n",
    "# The output should be\n",
    "# [40,50,60,10,20,30]\n",
    "# if the size of list is odd and content of list is as follows :\n",
    "# my_liist = [10,20,30,40,50,60,70]\n",
    "# The output should be\n",
    "# [50,60,70,40,10,20,30]\n",
    "import math\n",
    "def half_and_half(lst1):\n",
    "    out=[] # for storing even list\n",
    "    outodd=[] # for storing odd list\n",
    "    if len(lst1)%2==0: # checking if the length of the list is even\n",
    "        a=int(len(lst1)/2) # dividing the length of the list / 2 so that the traversing can start from there\n",
    "        for x in range(a,len(lst1)): # taking the range of 'a' till the end of the list\n",
    "            out.append(lst1[x]) # appending the element in that position of x\n",
    "        for y in range(a): # taking the range of start of the list till 'a'\n",
    "            out.append(lst1[y]) # appending the element in that position of x\n",
    "        print(out)\n",
    "    else:\n",
    "        b=len(lst1)/2\n",
    "        b=math.ceil(b) # math.ceil() is done to find the middle value of the list\n",
    "        for p in range(b,len(lst1)): # taking the range of 'b' till the end of the list\n",
    "            outodd.append(lst1[p]) # appending the element in that position of p\n",
    "        outodd.append(lst1[b-1]) # appending the middle element to the list\n",
    "        for q in range(b-1): # taking the range of start of the list till 'b-1'(taking the values just before middle value)\n",
    "            outodd.append(lst1[q]) # appending the element in that position of q\n",
    "        print(outodd)\n",
    "my_liist1=[10,20,30,40,50,60]\n",
    "my_liist2=[10,20,30,40,50,60,70]\n",
    "half_and_half(my_liist1)\n",
    "half_and_half(my_liist2)"
   ]
  },
  {
   "cell_type": "code",
   "execution_count": 67,
   "metadata": {
    "ExecuteTime": {
     "end_time": "2021-05-29T10:39:43.694779Z",
     "start_time": "2021-05-29T10:39:43.691446Z"
    }
   },
   "outputs": [
    {
     "name": "stdout",
     "output_type": "stream",
     "text": [
      "{29: 'a', 387: 'b', 38: 'd', 378: 'e', 43: 'f'}\n"
     ]
    }
   ],
   "source": [
    "# Write a function that accepts a dictionary as an argument. If the dictionary contains replicate values, \n",
    "# return an empty dictionary, otherwise, return a new dictionary whose values are now the keys and whose \n",
    "# keys are the values.\n",
    "def f1(dict1):\n",
    "    dict2={}\n",
    "    if len(dict1.values())!=len(set(dict1.values())): # checking if the dictionary contains any replicate values\n",
    "# using set because set do not take replicate values\n",
    "        return {}\n",
    "    else:\n",
    "        for k,v in dict1.items():\n",
    "            dict2[v]=k # dict2['value']='key'\n",
    "    return dict2\n",
    "a=f1({'a':29,'b':387,'d':38,'e':378,'f':43})\n",
    "print(a)"
   ]
  }
 ],
 "metadata": {
  "colab": {
   "name": "Function_Assignment.ipynb",
   "provenance": []
  },
  "kernelspec": {
   "display_name": "Python 3 (ipykernel)",
   "language": "python",
   "name": "python3"
  },
  "language_info": {
   "codemirror_mode": {
    "name": "ipython",
    "version": 3
   },
   "file_extension": ".py",
   "mimetype": "text/x-python",
   "name": "python",
   "nbconvert_exporter": "python",
   "pygments_lexer": "ipython3",
   "version": "3.11.3"
  }
 },
 "nbformat": 4,
 "nbformat_minor": 1
}
