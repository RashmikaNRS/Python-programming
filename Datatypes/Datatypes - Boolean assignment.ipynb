{
 "cells": [
  {
   "cell_type": "markdown",
   "id": "41e93626",
   "metadata": {},
   "source": [
    "Name: Rashmika NRS <br>\n",
    "Contact number: 8825656823 <br>\n",
    "July 28,2023 weekday morning batch "
   ]
  },
  {
   "cell_type": "markdown",
   "id": "e6c5e1b9",
   "metadata": {},
   "source": [
    "Q. Declare a boolean value and store it in a variable. Check the type and print the id of the same"
   ]
  },
  {
   "cell_type": "code",
   "execution_count": 1,
   "id": "c8c396b1",
   "metadata": {},
   "outputs": [
    {
     "name": "stdout",
     "output_type": "stream",
     "text": [
      "<class 'bool'>\n",
      "140725827938848\n"
     ]
    }
   ],
   "source": [
    "a=True\n",
    "print(type(a))\n",
    "print(id(a))"
   ]
  },
  {
   "cell_type": "markdown",
   "id": "fb98062c",
   "metadata": {},
   "source": [
    "Q. Take one boolean value between 0 - 256. Assign it to two different variables. Check the id of both the variables. It should come the same. Check why?"
   ]
  },
  {
   "cell_type": "code",
   "execution_count": 2,
   "id": "ce7c4eae",
   "metadata": {},
   "outputs": [
    {
     "name": "stdout",
     "output_type": "stream",
     "text": [
      "140725827938880\n",
      "140725827938880\n"
     ]
    }
   ],
   "source": [
    "b=False\n",
    "c=False\n",
    "print(id(b))\n",
    "print(id(c))\n",
    "# The boolean values are considered to be used more often.\n",
    "# Instead of using different memory id for the boolean value used often, we can use the same memory id which inturn\n",
    "# optimizes the memory usage"
   ]
  },
  {
   "cell_type": "markdown",
   "id": "7a59497f",
   "metadata": {},
   "source": [
    "Q. Arithmetic Operations on boolean data Take two different boolean values. Store them in two different variables. Do below operations on them:-    Find sum of both values    Find difference between them    Find the product of both.    Find value after dividing first value with second value    Find the remainder after dividing first value with second value    Find the quotient after dividing first value with second value    Find the result of first value to the power of second value"
   ]
  },
  {
   "cell_type": "code",
   "execution_count": 5,
   "id": "72430823",
   "metadata": {},
   "outputs": [
    {
     "name": "stdout",
     "output_type": "stream",
     "text": [
      "1\n",
      "-1\n",
      "0\n",
      "0.0\n",
      "0\n",
      "0\n",
      "0\n"
     ]
    }
   ],
   "source": [
    "d=False\n",
    "e=True\n",
    "print(d+e)\n",
    "print(d-e)\n",
    "print(d*e)\n",
    "print(d/e)\n",
    "print(d%e)\n",
    "print(d//e)\n",
    "print(d**e)"
   ]
  },
  {
   "cell_type": "markdown",
   "id": "9f9259cf",
   "metadata": {},
   "source": [
    "Q. Comparison Operators on boolean values Take two different boolean values. Store them in two different variables. Do below operations on them:-    Compare these two values with below operator:-        Greater than, '>'        less than, '<'        Greater than or equal to, '>='        Less than or equal to, '<='  Observe their output(return type should be boolean)"
   ]
  },
  {
   "cell_type": "code",
   "execution_count": 6,
   "id": "24f1d69c",
   "metadata": {},
   "outputs": [
    {
     "name": "stdout",
     "output_type": "stream",
     "text": [
      "True\n",
      "False\n",
      "True\n",
      "False\n"
     ]
    }
   ],
   "source": [
    "f=True\n",
    "g=False\n",
    "print(f>g)\n",
    "print(f<g)\n",
    "print(f>=g)\n",
    "print(f<=g)"
   ]
  },
  {
   "cell_type": "markdown",
   "id": "1ac1bc0a",
   "metadata": {},
   "source": [
    "Q. Equality Operator Take two different boolean values. Store them in two different variables. Equate them using equality operators (==, !=) Observe the output(return type should be boolean) "
   ]
  },
  {
   "cell_type": "code",
   "execution_count": 7,
   "id": "db9fca90",
   "metadata": {},
   "outputs": [
    {
     "name": "stdout",
     "output_type": "stream",
     "text": [
      "True\n",
      "False\n"
     ]
    }
   ],
   "source": [
    "h=False\n",
    "i=False\n",
    "print(h==i)\n",
    "print(h!=i)"
   ]
  },
  {
   "cell_type": "markdown",
   "id": "681038ce",
   "metadata": {},
   "source": [
    "Q. Logical operators Observe the output of below code<br> Cross check the output manually <br>\n",
    "print(True and True) <br>\n",
    "#----------------------------------------->Output is True <br>\n",
    "print(False and True)<br>\n",
    "#----------------------------------------->Output is False  <br>\n",
    "print(True and False)<br>\n",
    "#----------------------------------------->Output is False <br>\n",
    "print(False and False)<br>\n",
    "#----------------------------------------->Output is False  <br>\n",
    "print(True or True)<br>\n",
    "#----------------------------------------->Output is True <br>\n",
    "print(False or True) <br>\n",
    "#----------------------------------------->Output is True <br>\n",
    "print(True or False)<br>\n",
    "#----------------------------------------->Output is True <br>\n",
    "print(False or False)<br>\n",
    "#----------------------------------------->Output is False <br>\n",
    "print(not True)<br>\n",
    "#----------------------------------------->Output is False  <br>\n",
    "print(not False)<br>\n",
    "#----------------------------------------->Output is True "
   ]
  },
  {
   "cell_type": "code",
   "execution_count": 8,
   "id": "481fcc92",
   "metadata": {},
   "outputs": [
    {
     "name": "stdout",
     "output_type": "stream",
     "text": [
      "True\n",
      "False\n",
      "False\n",
      "False\n",
      "True\n",
      "True\n",
      "True\n",
      "False\n",
      "False\n",
      "True\n"
     ]
    }
   ],
   "source": [
    "print(True and True) # first is true so prints second\n",
    "print(False and True) # first is false so prints first\n",
    "print(True and False) # first is true so prints second\n",
    "print(False and False) # first is false so prints first\n",
    "print(True or True) # first is true so prints first\n",
    "print(False or True) # first is false so prints second\n",
    "print(True or False) # first is true so prints first\n",
    "print(False or False) # first is false so prints second\n",
    "print(not True) # value is true so prints false\n",
    "print(not False) # value is false so prints true"
   ]
  },
  {
   "cell_type": "markdown",
   "id": "b42c624d",
   "metadata": {},
   "source": [
    "Q. Bitwise Operators Do below operations on the values provided below:-   <br> \n",
    "Bitwise and(&) --------------> True, True    -------> Output is True   <br>\n",
    "Bitwise or(|)  --------------> True, False   -------> Output is True  <br>\n",
    "Bitwise(^)     --------------> True, False   -------> Output is True  <br>\n",
    "Bitwise negation(~) ---------> True          -------> Output is -2   <br>\n",
    "Bitwise left shift  ---------> True,2        -------> Output is 4  <br>\n",
    "Bitwise right shift ---------> True,2        -------> Output is 0 <br>\n",
    "Cross check the output manually "
   ]
  },
  {
   "cell_type": "code",
   "execution_count": 9,
   "id": "a84580d8",
   "metadata": {},
   "outputs": [
    {
     "name": "stdout",
     "output_type": "stream",
     "text": [
      "True\n",
      "True\n",
      "True\n",
      "-2\n",
      "4\n",
      "0\n"
     ]
    }
   ],
   "source": [
    "print(True&True)\n",
    "print(True|False)\n",
    "print(True^False)\n",
    "print(~True)\n",
    "print(True<<2)\n",
    "print(True>>2)"
   ]
  },
  {
   "cell_type": "markdown",
   "id": "91bc4b69",
   "metadata": {},
   "source": [
    "Q. What is the output of expression inside the print statement.<br> \n",
    "Cross check before running the program.<br>\n",
    "a = True<br>\n",
    "b = True<br>\n",
    "print(a is b)          #True or False?   <br>\n",
    "print(a is not b)      #True or False?  <br>\n",
    "a = False<br>\n",
    "b = False<br>\n",
    "print(a is b)          #True or False? <br>\n",
    "print(a is not b)      #True or False? "
   ]
  },
  {
   "cell_type": "code",
   "execution_count": 10,
   "id": "5e7f9050",
   "metadata": {},
   "outputs": [
    {
     "name": "stdout",
     "output_type": "stream",
     "text": [
      "140725827938848\n",
      "140725827938848\n",
      "True\n",
      "False\n",
      "140725827938880\n",
      "140725827938880\n",
      "True\n",
      "False\n"
     ]
    }
   ],
   "source": [
    "a = True\n",
    "b = True\n",
    "print(id(a))\n",
    "print(id(b))\n",
    "print(a is b)\n",
    "print(a is not b)\n",
    "a=False\n",
    "b=False\n",
    "print(id(a))\n",
    "print(id(b))\n",
    "print(a is b)\n",
    "print(a is not b)"
   ]
  },
  {
   "cell_type": "markdown",
   "id": "43dae97a",
   "metadata": {},
   "source": [
    "Q. Membership operation in, not in are two membership operators and it returns boolean value <br> \n",
    "print(True in [10,10.20,10+20j,'Python', True])<br>\n",
    "print(False in (10,10.20,10+20j,'Python', False))<br>\n",
    "print(True in {1,2,3, True}) <br>\n",
    "print(True in {True:100, False:200, True:300})<br>\n",
    "print(False in {True:100, False:200, True:300}) "
   ]
  },
  {
   "cell_type": "code",
   "execution_count": 11,
   "id": "21818f09",
   "metadata": {},
   "outputs": [
    {
     "name": "stdout",
     "output_type": "stream",
     "text": [
      "True\n",
      "True\n",
      "True\n",
      "True\n",
      "True\n"
     ]
    }
   ],
   "source": [
    "print(True in [10,10.20,10+20j,'Python', True])\n",
    "print(False in (10,10.20,10+20j,'Python', False))\n",
    "print(True in {1,2,3, True})\n",
    "print(True in {True:100, False:200, True:300})\n",
    "print(False in {True:100, False:200, True:300})"
   ]
  }
 ],
 "metadata": {
  "kernelspec": {
   "display_name": "Python 3 (ipykernel)",
   "language": "python",
   "name": "python3"
  },
  "language_info": {
   "codemirror_mode": {
    "name": "ipython",
    "version": 3
   },
   "file_extension": ".py",
   "mimetype": "text/x-python",
   "name": "python",
   "nbconvert_exporter": "python",
   "pygments_lexer": "ipython3",
   "version": "3.11.3"
  }
 },
 "nbformat": 4,
 "nbformat_minor": 5
}
