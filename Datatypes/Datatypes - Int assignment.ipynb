{
 "cells": [
  {
   "cell_type": "markdown",
   "id": "760bdf47",
   "metadata": {},
   "source": [
    "Name: Rashmika NRS <br>\n",
    "Contact number: 8825656823 <br>\n",
    "July 28,2023 weekday morning batch "
   ]
  },
  {
   "cell_type": "markdown",
   "id": "01db2937",
   "metadata": {},
   "source": [
    "Q. Declare an int value and store it in a variable. Check the type and print the id of the same."
   ]
  },
  {
   "cell_type": "code",
   "execution_count": 1,
   "id": "7a756f35",
   "metadata": {},
   "outputs": [
    {
     "name": "stdout",
     "output_type": "stream",
     "text": [
      "<class 'int'>\n",
      "140726858060872\n"
     ]
    }
   ],
   "source": [
    "a=10 # variable declared and value stored\n",
    "print(type(a)) # type of variable\n",
    "print(id(a)) # id of variable"
   ]
  },
  {
   "cell_type": "markdown",
   "id": "850aba2d",
   "metadata": {},
   "source": [
    "Q. Take one int value between 0 - 256. Assign it to two different variables. Check the id of both the variables. It should come the same. Check why? "
   ]
  },
  {
   "cell_type": "code",
   "execution_count": 3,
   "id": "41b28415",
   "metadata": {},
   "outputs": [
    {
     "name": "stdout",
     "output_type": "stream",
     "text": [
      "140726858064488\n",
      "140726858064488\n"
     ]
    }
   ],
   "source": [
    "b=123\n",
    "c=123\n",
    "print(id(b))\n",
    "print(id(c))\n",
    "\n",
    "# The memory id of both the variables are same because they lie in the range of -5 to 256.\n",
    "# The integers that lie in this range are considered to be used more often.\n",
    "# Instead of using different memory id for the integers used often, we can use the same memory id which inturn\n",
    "# optimizes the memory usage\n",
    "# This concept is actually known as Integer interning"
   ]
  },
  {
   "cell_type": "markdown",
   "id": "e67906be",
   "metadata": {},
   "source": [
    "Q. Take one int value either less than -5 or greater than 256. Assign it to two different variables. Check the id of both the variables. It should come different.Check why? "
   ]
  },
  {
   "cell_type": "code",
   "execution_count": 4,
   "id": "21eecf15",
   "metadata": {},
   "outputs": [
    {
     "name": "stdout",
     "output_type": "stream",
     "text": [
      "2008606160688\n",
      "2008606160912\n"
     ]
    }
   ],
   "source": [
    "d=-21\n",
    "e=-21\n",
    "print(id(d))\n",
    "print(id(e))\n",
    "\n",
    "# The memory id of both the variables are different because they do not lie in the range of -5 to 256.\n",
    "# The integers that are out of this range are not used often\n",
    "# So, there is no necessity for the memory id to be same since they are used rarely."
   ]
  },
  {
   "cell_type": "markdown",
   "id": "3ebb03f0",
   "metadata": {},
   "source": [
    "Q. Arithmetic Operations on integers Take two different integer values. Store them in two different variables. Do below operations on them:-    Find sum of both numbers    Find difference between them    Find the product of both numbers.    Find value after dividing first num with second number    Find the remainder after dividing first number with second number    Find the quotient after dividing first number with second number    Find the result of the first num to the power of the second number. "
   ]
  },
  {
   "cell_type": "code",
   "execution_count": 5,
   "id": "3ccd5da3",
   "metadata": {},
   "outputs": [
    {
     "name": "stdout",
     "output_type": "stream",
     "text": [
      "24\n",
      "14\n",
      "95\n",
      "3.8\n",
      "4\n",
      "3\n",
      "2476099\n"
     ]
    }
   ],
   "source": [
    "f=19\n",
    "g=5\n",
    "print(f+g) # sum\n",
    "print(f-g) # difference\n",
    "print(f*g) # product\n",
    "print(f/g) # division\n",
    "print(f%g) # modulus\n",
    "print(f//g) # floor division\n",
    "print(f**g) # exponentiation"
   ]
  },
  {
   "cell_type": "markdown",
   "id": "f7ce7c25",
   "metadata": {},
   "source": [
    "Q. Comparison Operators on integers Take two different integer values. Store them in two different variables. Do below operations on them:-    Compare se two numbers with below operator:-        Greater than, '>'        Smaller than, '<'        Greater than or equal to, '>='        Less than or equal to, '<=' Observe their output(return type should be boolean) "
   ]
  },
  {
   "cell_type": "code",
   "execution_count": 6,
   "id": "c780b581",
   "metadata": {},
   "outputs": [
    {
     "name": "stdout",
     "output_type": "stream",
     "text": [
      "True\n",
      "False\n",
      "True\n",
      "False\n"
     ]
    }
   ],
   "source": [
    "h=33\n",
    "i=16\n",
    "print(h>i) # Greater than\n",
    "print(h<i) # Lesser than\n",
    "print(h>=i) # Greater than or equal to\n",
    "print(h<=i) # Lesser than or equal to"
   ]
  },
  {
   "cell_type": "markdown",
   "id": "b6f2b576",
   "metadata": {},
   "source": [
    "Q. Equality Operator Take two different integer values. Store them in two different variables. Equate them using equality operators (==, !=) Observe the output(return type should be boolean)"
   ]
  },
  {
   "cell_type": "code",
   "execution_count": 7,
   "id": "b93a45b7",
   "metadata": {},
   "outputs": [
    {
     "name": "stdout",
     "output_type": "stream",
     "text": [
      "False\n",
      "True\n"
     ]
    }
   ],
   "source": [
    "j=21\n",
    "k=12\n",
    "print(j==k) # equal\n",
    "print(j!=k) # not equal"
   ]
  },
  {
   "cell_type": "markdown",
   "id": "0e361dc6",
   "metadata": {},
   "source": [
    "Q. Logical operators. Observe the output of below code Cross check the output manually <br>\n",
    "print(10 and 20) #----------------------------------------->Output is 20 <br>\n",
    "print(0 and 20) #----------------------------------------->Output is 0 <br>\n",
    "print(20 and 0) #----------------------------------------->Output is 0 <br>\n",
    "print(0 and 0) #----------------------------------------->Output is 0  <br>\n",
    "print(10 or 20) #----------------------------------------->Output is 10 <br>\n",
    "print(0 or 20) #----------------------------------------->Output is 20 <br>\n",
    "print(20 or 0) #----------------------------------------->Output is 20 <br>\n",
    "print(0 or 0) #----------------------------------------->Output is 0  <br>\n",
    "print(not 10) #----------------------------------------->Output is False <br>\n",
    "print(not 0) #----------------------------------------->Output is True "
   ]
  },
  {
   "cell_type": "code",
   "execution_count": 8,
   "id": "31d2dd4b",
   "metadata": {},
   "outputs": [
    {
     "name": "stdout",
     "output_type": "stream",
     "text": [
      "20\n",
      "0\n",
      "0\n",
      "0\n",
      "10\n",
      "20\n",
      "20\n",
      "0\n",
      "False\n",
      "True\n"
     ]
    }
   ],
   "source": [
    "print(10 and 20) # in 'and', when the value in the left(10) is true, it prints the value in the right(20)\n",
    "print(0 and 20) # in 'and', when the value in the left(0) is false, it prints the value in the left(0)\n",
    "print(20 and 0) # in 'and', when the value in the left(20) is true, it prints the value in the right(0)\n",
    "print(0 and 0) # in 'and', when the value in the left(0) is false, it prints the value in the left(0)\n",
    "print(10 or 20) # in 'or', when the value in the left(10) is true, it prints the value in the left(10)\n",
    "print(0 or 20) # in 'or', when the value in the left(0) is false, it prints the value in the right(20)\n",
    "print(20 or 0) # in 'or', when the value in the left(20) is true, it prints the value in the left(20)\n",
    "print(0 or 0) # in 'or', when the value in the left(0) is false, it prints the value in the right(0)\n",
    "print(not 10) # in 'not', when the value is true, it returns false\n",
    "print(not 0) # in 'not', when the value is false, it returns true"
   ]
  },
  {
   "cell_type": "markdown",
   "id": "a3d48dd5",
   "metadata": {},
   "source": [
    "Q. Bitwise Operators. Do below operations on the values provided below:- <br>   \n",
    "Bitwise and(&) -----------------------------------------> 10, 20 <br>\n",
    "-------> Output is 0    <br>\n",
    "Bitwise or(|)  -----------------------------------------> 10, 20 <br>\n",
    "-------> Output is 30   <br>\n",
    "Bitwise(^)     -----------------------------------------> 10, 20 <br>\n",
    "-------> Output is 30   <br>\n",
    "Bitwise negation(~) ------------------------------------> 10 <br>\n",
    "-------> Output is -11  <br>\n",
    "Bitwise left shift  ------------------------------------> 10,2 <br>\n",
    "-------> Output is 40   <br>\n",
    "Bitwise right shift ------------------------------------> 10,2 <br>\n",
    "-------> Output is 2 <br>\n",
    "Cross check the output manually "
   ]
  },
  {
   "cell_type": "code",
   "execution_count": 10,
   "id": "77caf25b",
   "metadata": {},
   "outputs": [
    {
     "name": "stdout",
     "output_type": "stream",
     "text": [
      "0\n",
      "30\n",
      "30\n",
      "-11\n",
      "40\n",
      "2\n"
     ]
    }
   ],
   "source": [
    "print(10&20) # 0 1 0 1 0\n",
    "             # 1 0 1 0 0\n",
    "             ------------\n",
    "               0 0 0 0 0\n",
    "# Decimal value of 00000 is 0\n",
    "\n",
    "print(10|20) # 0 1 0 1 0\n",
    "             # 1 0 1 0 0\n",
    "             ------------\n",
    "               1 1 1 1 0\n",
    "# Decimal value of 11110 is 30\n",
    "\n",
    "print(10^20) # 0 1 0 1 0\n",
    "             # 1 0 1 0 0\n",
    "             ------------\n",
    "               1 1 1 1 0\n",
    "# Decimal value of 11110 is 30\n",
    "\n",
    "print(~10) #  1 0 1 0\n",
    "           # -(10+1) => -11\n",
    "# Binary value of -11 is -0b1011\n",
    "\n",
    "print(10<<2) # 1 0 1 0 leftshift once => 1 0 1 0 0\n",
    "             # 1 0 1 0 0 leftshift once again => 1 0 1 0 0 0\n",
    "# Decimal value of 101000 is 40\n",
    "\n",
    "print(10>>2) # 1 0 1 0 rightshift once => 0 1 0 1\n",
    "             # 0 1 0 1 rightshift once again => 0 0 1 0\n",
    "# Decimal value of 0010 is 2"
   ]
  },
  {
   "cell_type": "markdown",
   "id": "67f15196",
   "metadata": {},
   "source": [
    "Q. What is the output of expression inside print statement. Cross check before running the program. <br>\n",
    "a = 10 <br>\n",
    "b = 10 <br>\n",
    "print(a is b)          #True or False? <br>\n",
    "print(a is not b)      #True or False?  <br>\n",
    "a = 1000 <br>\n",
    "b = 1000 <br>\n",
    "print(a is b)          #True or False? <br>\n",
    "print(a is not b)      #True or False? "
   ]
  },
  {
   "cell_type": "code",
   "execution_count": 2,
   "id": "67b6c7a4",
   "metadata": {},
   "outputs": [
    {
     "name": "stdout",
     "output_type": "stream",
     "text": [
      "140725829407816\n",
      "140725829407816\n",
      "True\n",
      "False\n",
      "2712205131568\n",
      "2712205128816\n",
      "False\n",
      "True\n"
     ]
    }
   ],
   "source": [
    "a = 10\n",
    "b = 10\n",
    "print(id(a))\n",
    "print(id(b))\n",
    "print(a is b) # memory id of a and b is the same (lies in the range -5 to 256) # True\n",
    "print(a is not b) # memory id of a and b is the same (lies in the range -5 to 256) # False\n",
    "a = 1000\n",
    "b = 1000\n",
    "print(id(a))\n",
    "print(id(b))\n",
    "print(a is b) # memory id of a and b are different (lies in the range -5 to 256) # False\n",
    "print(a is not b) # memory id of a and b are different (lies in the range -5 to 256) # True"
   ]
  },
  {
   "cell_type": "markdown",
   "id": "d2447a35",
   "metadata": {},
   "source": [
    "Q. What is the output of expression inside print statement. Cross check before running the program. <br>\n",
    "print(10+(10*32)//2**5&20+(~(-10))<<2) "
   ]
  },
  {
   "cell_type": "code",
   "execution_count": 12,
   "id": "bc7ab508",
   "metadata": {},
   "outputs": [
    {
     "name": "stdout",
     "output_type": "stream",
     "text": [
      "20\n"
     ]
    }
   ],
   "source": [
    "print(10+(10*32)//2**5&20+(~(-10))<<2)\n",
    "# 10+(10*32)//2**5&20+(~(-10))<<2\n",
    "# 10+320//2**5&20+9<<2\n",
    "# 10+320//32&20+9<<2\n",
    "# 10+10&20+9<<2\n",
    "# 20&29<<2\n",
    "# 20&116\n",
    "# 20"
   ]
  },
  {
   "cell_type": "markdown",
   "id": "3234f773",
   "metadata": {},
   "source": [
    "Q. Membership operation in, not in are two membership operators and it returns boolean value <br> \n",
    "print('2' in 'Python2.7.8') <br>\n",
    "print(10 in [10,10.20,10+20j,'Python'])<br>\n",
    "print(10 in (10,10.20,10+20j,'Python'))<br>\n",
    "print(2 in {1,2,3}) <br>\n",
    "print(3 in {1:100, 2:200, 3:300}) <br>\n",
    "print(10 in range(20)) "
   ]
  },
  {
   "cell_type": "code",
   "execution_count": 13,
   "id": "d184580a",
   "metadata": {},
   "outputs": [
    {
     "name": "stdout",
     "output_type": "stream",
     "text": [
      "True\n",
      "True\n",
      "True\n",
      "True\n",
      "True\n",
      "True\n"
     ]
    }
   ],
   "source": [
    "print('2' in 'Python2.7.8')\n",
    "print(10 in [10,10.20,10+20j,'Python'])\n",
    "print(10 in (10,10.20,10+20j,'Python'))\n",
    "print(2 in {1,2,3})\n",
    "print(3 in {1:100, 2:200, 3:300})\n",
    "print(10 in range(20)) "
   ]
  },
  {
   "cell_type": "markdown",
   "id": "fa56c4f2",
   "metadata": {},
   "source": [
    "Q. An integer can be represented in binary, octal or hexadecimal form. Declare one binary, one octal and one hexadecimal value and store them in three different variables. Convert 9876 to its binary, octal and hexadecimal equivalent and print their corresponding value."
   ]
  },
  {
   "cell_type": "code",
   "execution_count": 16,
   "id": "52e2e32e",
   "metadata": {},
   "outputs": [
    {
     "name": "stdout",
     "output_type": "stream",
     "text": [
      "11\n",
      "95\n",
      "15\n",
      "0b10011010010100\n",
      "0o23224\n",
      "0x2694\n"
     ]
    }
   ],
   "source": [
    "binvalue=0b1011\n",
    "octvalue=0o137\n",
    "hexvalue=0xf\n",
    "print(binvalue)\n",
    "print(octvalue)\n",
    "print(hexvalue)\n",
    "a=9876\n",
    "print(bin(a))\n",
    "print(oct(a))\n",
    "print(hex(a))"
   ]
  },
  {
   "cell_type": "markdown",
   "id": "2a1bb130",
   "metadata": {},
   "source": [
    "Q. What will be the output of following:- <br>\n",
    "a =0b1010000 <br>\n",
    "print(a) <br>\n",
    "b = 0o7436 <br>\n",
    "print(b) <br>\n",
    "c = 0xfade <br>\n",
    "print(c) <br>\n",
    "print(bin(80)) <br>\n",
    "print(oct(3870))  <br>\n",
    "print(hex(64222)) <br>\n",
    "print(bin(0b1010000)) <br>\n",
    "print(bin(0xfade)) <br>\n",
    "print(oct(0xfade)) <br>\n",
    "print(oct(0o7436)) <br>\n",
    "print(hex(0b1010000)) <br>\n",
    "print(hex(0xfade)) "
   ]
  },
  {
   "cell_type": "code",
   "execution_count": 17,
   "id": "9a956530",
   "metadata": {},
   "outputs": [
    {
     "name": "stdout",
     "output_type": "stream",
     "text": [
      "80\n",
      "3870\n",
      "64222\n",
      "0b1010000\n",
      "0o7436\n",
      "0xfade\n",
      "0b1010000\n",
      "0b1111101011011110\n",
      "0o175336\n",
      "0o7436\n",
      "0x50\n",
      "0xfade\n"
     ]
    }
   ],
   "source": [
    "a =0b1010000 \n",
    "print(a) \n",
    "b = 0o7436 \n",
    "print(b) \n",
    "c = 0xfade \n",
    "print(c)\n",
    "print(bin(80)) \n",
    "print(oct(3870))  \n",
    "print(hex(64222)) \n",
    "print(bin(0b1010000)) \n",
    "print(bin(0xfade)) \n",
    "print(oct(0xfade)) \n",
    "print(oct(0o7436)) \n",
    "print(hex(0b1010000)) \n",
    "print(hex(0xfade)) "
   ]
  }
 ],
 "metadata": {
  "kernelspec": {
   "display_name": "Python 3 (ipykernel)",
   "language": "python",
   "name": "python3"
  },
  "language_info": {
   "codemirror_mode": {
    "name": "ipython",
    "version": 3
   },
   "file_extension": ".py",
   "mimetype": "text/x-python",
   "name": "python",
   "nbconvert_exporter": "python",
   "pygments_lexer": "ipython3",
   "version": "3.11.3"
  }
 },
 "nbformat": 4,
 "nbformat_minor": 5
}
