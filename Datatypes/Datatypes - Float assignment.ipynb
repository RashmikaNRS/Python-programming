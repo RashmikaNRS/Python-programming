{
 "cells": [
  {
   "cell_type": "markdown",
   "id": "85f64c66",
   "metadata": {},
   "source": [
    "Name: Rashmika NRS <br>\n",
    "Contact number: 8825656823 <br>\n",
    "July 28,2023 weekday morning batch "
   ]
  },
  {
   "cell_type": "markdown",
   "id": "b308cbd2",
   "metadata": {},
   "source": [
    "Q. Declare a float value and store it in a variable. Check the type and print the id of the same."
   ]
  },
  {
   "cell_type": "code",
   "execution_count": 1,
   "id": "db69aca5",
   "metadata": {},
   "outputs": [
    {
     "name": "stdout",
     "output_type": "stream",
     "text": [
      "<class 'float'>\n",
      "2813157881360\n"
     ]
    }
   ],
   "source": [
    "a=10.23 # variable declared and value stored\n",
    "print(type(a)) # type of variable\n",
    "print(id(a)) # id of variable"
   ]
  },
  {
   "cell_type": "markdown",
   "id": "654c6cb9",
   "metadata": {},
   "source": [
    "Q. Arithmetic Operations on float Take two different float values. Store them in two different variables. Do below operations on them:-    Find sum of both numbers    Find difference between them    Find the product of both numbers.    Find value after dividing first num with second number    Find the remainder after dividing first number with second number    Find the quotient after dividing first number with second number    Find the result of the first num to the power of the second number. "
   ]
  },
  {
   "cell_type": "code",
   "execution_count": 3,
   "id": "b62fe6de",
   "metadata": {},
   "outputs": [
    {
     "name": "stdout",
     "output_type": "stream",
     "text": [
      "4.665\n",
      "0.03500000000000014\n",
      "5.44025\n",
      "1.0151187904967602\n",
      "0.03500000000000014\n",
      "1.0\n",
      "7.228065861484164\n"
     ]
    }
   ],
   "source": [
    "b=2.35\n",
    "c=2.315\n",
    "print(b+c) # sum\n",
    "print(b-c) # difference\n",
    "print(b*c) # product\n",
    "print(b/c) # division\n",
    "print(b%c) # modulus\n",
    "print(b//c) # floor division\n",
    "print(b**c) # exponentiation"
   ]
  },
  {
   "cell_type": "markdown",
   "id": "63562410",
   "metadata": {},
   "source": [
    "Q. Comparison Operators on float Take two different float values. Store them in two different variables. Do below operations on them:-    Compare these two numbers with below operator:-        Greater than, '>'  Smaller than, '<'  Greater than or equal to, '>='  Less than or equal to, '<=' Observe their output(return type should be boolean) "
   ]
  },
  {
   "cell_type": "code",
   "execution_count": 4,
   "id": "8f7cfe14",
   "metadata": {},
   "outputs": [
    {
     "name": "stdout",
     "output_type": "stream",
     "text": [
      "True\n",
      "False\n",
      "True\n",
      "False\n"
     ]
    }
   ],
   "source": [
    "d=-0.68\n",
    "e=-0.681\n",
    "print(d>e) # Greater than\n",
    "print(d<e) # Lesser than\n",
    "print(d>=e) # Greater than or equal to\n",
    "print(d<=e) # Lesser than or equal to"
   ]
  },
  {
   "cell_type": "markdown",
   "id": "357d512d",
   "metadata": {},
   "source": [
    "Q. Equality Operator Take two different float values. Store them in two different variables. Equate them using equality operators (==, !=) Observe the output(return type should be boolean) "
   ]
  },
  {
   "cell_type": "code",
   "execution_count": 5,
   "id": "91c0b0ae",
   "metadata": {},
   "outputs": [
    {
     "name": "stdout",
     "output_type": "stream",
     "text": [
      "False\n",
      "True\n"
     ]
    }
   ],
   "source": [
    "f=189.365\n",
    "g=27.463\n",
    "print(f==g)\n",
    "print(f!=g)"
   ]
  },
  {
   "cell_type": "markdown",
   "id": "6af5eda3",
   "metadata": {},
   "source": [
    "Q. Logical operators Observe the output of below code Cross check the output manually  <br>\n",
    "print(10.20 and 20.30)       #both are true and second value taken <br>\n",
    "Output is 20.3  <br>\n",
    "print(0.0 and 20.30)         #First is false so first value taken<br>\n",
    "Output is 0.0 <br>\n",
    "print(20.30 and 0.0)         #Goes to till second and second value is false so second is taken<br>\n",
    "Output is 0.0 <br>\n",
    "print(0.0 and 0.0)           #First is false so first value is taken<br>\n",
    "Output is 0.0 <br>\n",
    "print(10.20 or 20.30)        #First is True so first value is taken<br>\n",
    "Output is 10.2 <br>\n",
    "print(0.0 or 20.30)          #Goes to till second and second is true second value is taken<br>\n",
    "Output is 20.3 <br>\n",
    "print(20.30 or 0.0)          #First is True so first value is taken<br>\n",
    "Output is 20.3<br>\n",
    "print(0.0 or 0.0)            #Goes to till second and second is also false and second value is taken<br>\n",
    "Output is 0.0 <br>\n",
    "print(not 10.20)             #-Not of true is false<br>\n",
    "Output is False<br>\n",
    "print(not 0.0)               #Not of false is True<br>\n",
    "Output is True "
   ]
  },
  {
   "cell_type": "code",
   "execution_count": 6,
   "id": "aedde3fe",
   "metadata": {},
   "outputs": [
    {
     "name": "stdout",
     "output_type": "stream",
     "text": [
      "20.3\n",
      "0.0\n",
      "0.0\n",
      "0.0\n",
      "10.2\n",
      "20.3\n",
      "20.3\n",
      "0.0\n",
      "False\n",
      "True\n"
     ]
    }
   ],
   "source": [
    "print(10.20 and 20.30) #both are true and second value taken\n",
    "print(0.0 and 20.30) #First is false so first value taken\n",
    "print(20.30 and 0.0) #Goes to till second and second value is false so second is taken\n",
    "print(0.0 and 0.0) #First is false so first value is taken\n",
    "print(10.20 or 20.30) #First is True so first value is taken\n",
    "print(0.0 or 20.30) #Goes to till second and second is true second value is taken\n",
    "print(20.30 or 0.0) #First is True so first value is taken\n",
    "print(0.0 or 0.0) #Goes to till second and second is also false and second value is taken\n",
    "print(not 10.20) #-Not of true is false\n",
    "print(not 0.0) #Not of false is True"
   ]
  },
  {
   "cell_type": "markdown",
   "id": "f37a3b12",
   "metadata": {},
   "source": [
    "Q. What is the output of expression inside print statement. Cross check before running the program.<br> \n",
    "a = 10.20<br>\n",
    "b = 10.20<br>\n",
    "print(a is b)          #True or False? True 10.20<256<br>\n",
    "print(a is not b)      #True or False? False <br>\n",
    "Why the Id of float values are different when the same value is assigned to two different variables ex: a = 10.5 b=10.5. but id will be same if I assign the variable having float i.e. a=c then both a and c's Id are same "
   ]
  },
  {
   "cell_type": "code",
   "execution_count": 11,
   "id": "37ee9832",
   "metadata": {},
   "outputs": [
    {
     "name": "stdout",
     "output_type": "stream",
     "text": [
      "2813157881488\n",
      "2813157875024\n",
      "False\n",
      "True\n",
      "2813157869424\n",
      "2813157869424\n",
      "True\n"
     ]
    }
   ],
   "source": [
    "a = 10.20\n",
    "b = 10.20\n",
    "print(id(a))\n",
    "print(id(b))\n",
    "print(a is b) # gives false because there is no concept of object reusability..\n",
    "# since float values have infinite no of possibilities, float does not have interning like integer\n",
    "# So, the float values have a unique memory id even though the given value is same\n",
    "print(a is not b) # gives true because the memory id of 'a' and 'b' differ\n",
    "\n",
    "a=c\n",
    "print(id(a))\n",
    "print(id(c))\n",
    "print(a is c) # gives true because the memory id containing the object 10.20 already has a label 'a'.\n",
    "# When we give a=c, the memory id containing the object 10.20 will get another label 'c'.\n",
    "# So, both 'a' and 'c' refer the same object with same memory id"
   ]
  },
  {
   "cell_type": "markdown",
   "id": "6ef37ac8",
   "metadata": {},
   "source": [
    "Q. Bitwise operation is not applicable between instances of float. Why the Id of float values are different when the same value is assigned to two different variables ex: a = 10.5 b=10.5. but id will be same if I assign the variable having float i.e. a=c then both a and c's Id are same Object reusability concept is not applicable on float values. "
   ]
  },
  {
   "cell_type": "code",
   "execution_count": 12,
   "id": "5e0c8a65",
   "metadata": {},
   "outputs": [
    {
     "name": "stdout",
     "output_type": "stream",
     "text": [
      "2813157869424\n",
      "2813157869424\n",
      "True\n"
     ]
    }
   ],
   "source": [
    "a=c\n",
    "print(id(a))\n",
    "print(id(c))\n",
    "print(a is c) # gives true because the memory id containing the object 10.20 already has a label 'a'.\n",
    "# When we give a=c, the memory id containing the object 10.20 will get another label 'c'.\n",
    "# So, both 'a' and 'c' refer the same object with same memory id\n",
    "\n",
    "# Object reusability concept is not applicable on float values..but, these variables refer the same object with same memory id"
   ]
  },
  {
   "cell_type": "markdown",
   "id": "2f7a445e",
   "metadata": {},
   "source": [
    "Q. Membership operation in, not in are two membership operators and it returns boolean value<br>\n",
    "print('2.7' in 'Python2.7.8')              #True <br>\n",
    "print(10.20 in [10,10.20,10+20j,'Python']) #True <br>\n",
    "print(10.20 in (10,10.20,10+20j,'Python')) # True <br>\n",
    "print(20.30 in {1,20.30,30+40j})           # True<br>\n",
    "print(2.3 in {1:100, 2.3:200, 30+40j:300}) # True <br>\n",
    "print(10 in range(20))                     # True "
   ]
  },
  {
   "cell_type": "code",
   "execution_count": 10,
   "id": "7b5f01bb",
   "metadata": {},
   "outputs": [
    {
     "name": "stdout",
     "output_type": "stream",
     "text": [
      "True\n",
      "True\n",
      "True\n",
      "True\n",
      "True\n",
      "True\n"
     ]
    }
   ],
   "source": [
    "print('2.7' in 'Python2.7.8')             \n",
    "print(10.20 in [10,10.20,10+20j,'Python']) \n",
    "print(10.20 in (10,10.20,10+20j,'Python')) \n",
    "print(20.30 in {1,20.30,30+40j})          \n",
    "print(2.3 in {1:100, 2.3:200, 30+40j:300}) \n",
    "print(10 in range(20))"
   ]
  }
 ],
 "metadata": {
  "kernelspec": {
   "display_name": "Python 3 (ipykernel)",
   "language": "python",
   "name": "python3"
  },
  "language_info": {
   "codemirror_mode": {
    "name": "ipython",
    "version": 3
   },
   "file_extension": ".py",
   "mimetype": "text/x-python",
   "name": "python",
   "nbconvert_exporter": "python",
   "pygments_lexer": "ipython3",
   "version": "3.11.3"
  }
 },
 "nbformat": 4,
 "nbformat_minor": 5
}
