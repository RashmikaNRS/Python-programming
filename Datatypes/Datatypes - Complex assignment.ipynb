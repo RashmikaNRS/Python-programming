{
 "cells": [
  {
   "cell_type": "markdown",
   "id": "c363646c",
   "metadata": {},
   "source": [
    "Name: Rashmika NRS <br>\n",
    "Contact number: 8825656823 <br>\n",
    "July 28,2023 weekday morning batch "
   ]
  },
  {
   "cell_type": "markdown",
   "id": "32e4e549",
   "metadata": {},
   "source": [
    "Q. Declare a complex number and store it in a variable. Check the type and print the id of the same. "
   ]
  },
  {
   "cell_type": "code",
   "execution_count": 1,
   "id": "beaabd65",
   "metadata": {},
   "outputs": [
    {
     "name": "stdout",
     "output_type": "stream",
     "text": [
      "<class 'complex'>\n",
      "3174037583792\n"
     ]
    }
   ],
   "source": [
    "a=3+5j\n",
    "print(type(a))\n",
    "print(id(a))"
   ]
  },
  {
   "cell_type": "markdown",
   "id": "30aaef7b",
   "metadata": {},
   "source": [
    "Q. Arithmetic Operations on complex number Take two different complex numbers. Store them in two different variables. Do below operations on them:-    Find sum of both numbers    Find difference between them    Find the product of both numbers.    Find value after dividing first num with second number    Find the result of the first num to the power of the second number. "
   ]
  },
  {
   "cell_type": "code",
   "execution_count": 2,
   "id": "0eeb664b",
   "metadata": {},
   "outputs": [
    {
     "name": "stdout",
     "output_type": "stream",
     "text": [
      "(9+8j)\n",
      "(5-2j)\n",
      "(-1+41j)\n",
      "(1.0000000000000002-1j)\n",
      "(-0.26561255207318996-7.655179646589968j)\n"
     ]
    }
   ],
   "source": [
    "b=7+3j\n",
    "c=2+5j\n",
    "print(b+c) # sum\n",
    "print(b-c) # difference\n",
    "print(b*c) # product\n",
    "print(b/c) # division\n",
    "print(b**c) # exponentiation"
   ]
  },
  {
   "cell_type": "markdown",
   "id": "1f0cf281",
   "metadata": {},
   "source": [
    "Q. Comparison Operation not applicable between instance of complex values. Object reusability concept is not applicable on complex number"
   ]
  },
  {
   "cell_type": "code",
   "execution_count": 3,
   "id": "9315cdf3",
   "metadata": {},
   "outputs": [
    {
     "ename": "TypeError",
     "evalue": "'<' not supported between instances of 'complex' and 'complex'",
     "output_type": "error",
     "traceback": [
      "\u001b[1;31m---------------------------------------------------------------------------\u001b[0m",
      "\u001b[1;31mTypeError\u001b[0m                                 Traceback (most recent call last)",
      "Cell \u001b[1;32mIn[3], line 3\u001b[0m\n\u001b[0;32m      1\u001b[0m d\u001b[38;5;241m=\u001b[39m\u001b[38;5;241m5\u001b[39m\u001b[38;5;241m-\u001b[39m\u001b[38;5;241m4\u001b[39mj\n\u001b[0;32m      2\u001b[0m e\u001b[38;5;241m=\u001b[39m\u001b[38;5;241m9\u001b[39m\u001b[38;5;241m+\u001b[39m\u001b[38;5;241m2\u001b[39mj\n\u001b[1;32m----> 3\u001b[0m \u001b[38;5;28mprint\u001b[39m(d\u001b[38;5;241m<\u001b[39me)\n",
      "\u001b[1;31mTypeError\u001b[0m: '<' not supported between instances of 'complex' and 'complex'"
     ]
    }
   ],
   "source": [
    "d=5-4j\n",
    "e=9+2j\n",
    "print(d<e)\n",
    "# Comparison operators cannot be applied on complex values..\n",
    "# Object reusability concept is not applicable on complex number"
   ]
  },
  {
   "cell_type": "markdown",
   "id": "ecb0d199",
   "metadata": {},
   "source": [
    "Q. Equality Operator Take two different complex numbers. Store them in two different variables. Equate them using equality operators (==, !=) Observe the output(return type should be boolean)"
   ]
  },
  {
   "cell_type": "code",
   "execution_count": 4,
   "id": "47b48281",
   "metadata": {},
   "outputs": [
    {
     "name": "stdout",
     "output_type": "stream",
     "text": [
      "False\n",
      "True\n"
     ]
    }
   ],
   "source": [
    "f=7+36j\n",
    "g=24-4j\n",
    "print(f==g)\n",
    "print(f!=g)"
   ]
  },
  {
   "cell_type": "markdown",
   "id": "7f395f35",
   "metadata": {},
   "source": [
    "Q. Logical operators Observe the output of below code<br>\n",
    "Cross check the output manually<br>\n",
    "print(10+20j and 20+30j)    #20+30j<br>\n",
    "#----------------------------------------->Output is 20+30j <br>\n",
    "print(0+0j and 20+30j)      #0+0j<br>\n",
    "#----------------------------------------->Output is 0j <br>\n",
    "print(20+30j and 0+0j)      #0+0j<br>\n",
    "#----------------------------------------->Output is 0j <br>\n",
    "print(0+0j and 0+0j)        #0+0j <br>\n",
    "#----------------------------------------->Output is 0j <br>\n",
    "print(10+20j or 20+30j)     #10+20j<br>\n",
    "#----------------------------------------->Output is 10+20j <br>\n",
    "print(0+0j or 20+30j)       #20+30j<br>\n",
    "#----------------------------------------->Output is 20+30j <br>\n",
    "print(20+30j or 0+0j)       #20+30j <br>\n",
    "#----------------------------------------->Output is 20+30j <br>\n",
    "print(0+0j or 0+0j)         #0+0j <br>\n",
    "#----------------------------------------->Output is 0j <br>\n",
    "print(not 10+20j)           #False <br>\n",
    "#----------------------------------------->Output is False <br>\n",
    "print(not 0+0j)             #True<br>\n",
    "#----------------------------------------->Output is True "
   ]
  },
  {
   "cell_type": "code",
   "execution_count": 5,
   "id": "31bdb25b",
   "metadata": {},
   "outputs": [
    {
     "name": "stdout",
     "output_type": "stream",
     "text": [
      "(20+30j)\n",
      "0j\n",
      "0j\n",
      "0j\n",
      "(10+20j)\n",
      "(20+30j)\n",
      "(20+30j)\n",
      "0j\n",
      "False\n",
      "True\n"
     ]
    }
   ],
   "source": [
    "print(10+20j and 20+30j) # first value is true, so prints second value\n",
    "print(0+0j and 20+30j) # first value is false, so prints first value\n",
    "print(20+30j and 0+0j) # first value is true, so prints second value\n",
    "print(0+0j and 0+0j) # first value is false, so prints first value\n",
    "print(10+20j or 20+30j) # first value is true, so prints first value\n",
    "print(0+0j or 20+30j) # first value is false, so prints second value\n",
    "print(20+30j or 0+0j) # first value is true, so prints first value\n",
    "print(0+0j or 0+0j) # first value is false, so prints second value\n",
    "print(not 10+20j) # value is true, so prints false\n",
    "print(not 0+0j) # value is false, so prints true"
   ]
  },
  {
   "cell_type": "markdown",
   "id": "4f7c99ad",
   "metadata": {},
   "source": [
    "Q. What is the output of the expression inside the print statement. Cross check before running the program.<br>\n",
    "a = 10+20j<br>\n",
    "b = 10+20j <br>\n",
    "print(a is b)       #False   #True or False?<br>\n",
    "print(a is not b)   #True   #True or False? "
   ]
  },
  {
   "cell_type": "code",
   "execution_count": 7,
   "id": "c81884ca",
   "metadata": {},
   "outputs": [
    {
     "name": "stdout",
     "output_type": "stream",
     "text": [
      "3174051567728\n",
      "3174051568624\n",
      "False\n",
      "True\n"
     ]
    }
   ],
   "source": [
    "a = 10+20j\n",
    "b = 10+20j\n",
    "print(id(a))\n",
    "print(id(b))\n",
    "print(a is b)\n",
    "print(a is not b)"
   ]
  },
  {
   "cell_type": "markdown",
   "id": "b29e04a7",
   "metadata": {},
   "source": [
    "Q. Membership operation in, not in are two membership operators and it returns boolean value<br>\n",
    "print('2.7' in 'Python2.7.8')                      #True<br>\n",
    "print(10+20j in [10,10.20,10+20j,'Python'])        #True<br>\n",
    "print(10+20j in (10,10.20,10+20j,'Python'))        #True<br>\n",
    "print(30+40j in {1,20.30,30+40j})                  #True <br>\n",
    "print(30+40j in {1:100, 2.3:200, 30+40j:300})      #True<br>\n",
    "print(10 in range(20))                             #True "
   ]
  },
  {
   "cell_type": "code",
   "execution_count": 8,
   "id": "52b28303",
   "metadata": {},
   "outputs": [
    {
     "name": "stdout",
     "output_type": "stream",
     "text": [
      "True\n",
      "True\n",
      "True\n",
      "True\n",
      "True\n",
      "True\n"
     ]
    }
   ],
   "source": [
    "print('2.7' in 'Python2.7.8') \n",
    "print(10+20j in [10,10.20,10+20j,'Python']) \n",
    "print(10+20j in (10,10.20,10+20j,'Python')) \n",
    "print(30+40j in {1,20.30,30+40j}) \n",
    "print(30+40j in {1:100, 2.3:200, 30+40j:300}) \n",
    "print(10 in range(20))"
   ]
  }
 ],
 "metadata": {
  "kernelspec": {
   "display_name": "Python 3 (ipykernel)",
   "language": "python",
   "name": "python3"
  },
  "language_info": {
   "codemirror_mode": {
    "name": "ipython",
    "version": 3
   },
   "file_extension": ".py",
   "mimetype": "text/x-python",
   "name": "python",
   "nbconvert_exporter": "python",
   "pygments_lexer": "ipython3",
   "version": "3.11.3"
  }
 },
 "nbformat": 4,
 "nbformat_minor": 5
}
