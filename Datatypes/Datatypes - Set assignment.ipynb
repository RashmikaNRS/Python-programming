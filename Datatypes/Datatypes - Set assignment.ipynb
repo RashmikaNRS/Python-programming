{
 "cells": [
  {
   "cell_type": "markdown",
   "id": "5842c2fe",
   "metadata": {},
   "source": [
    "Python program to count the number of vowels present in a string using set"
   ]
  },
  {
   "cell_type": "code",
   "execution_count": 11,
   "id": "281e014e",
   "metadata": {},
   "outputs": [
    {
     "name": "stdout",
     "output_type": "stream",
     "text": [
      "8\n"
     ]
    }
   ],
   "source": [
    "vowels={'a','e','i','o','u'} # vowels taken in a set\n",
    "count=0\n",
    "str1='Welcome to python programming'\n",
    "str2=str1.lower() # converting the characters of input string to lowercase\n",
    "for x in str2:\n",
    "    if x in vowels: # checks if every character of str2 is in vowels. if yes, count is incremented\n",
    "        count+=1\n",
    "print(count)"
   ]
  },
  {
   "cell_type": "markdown",
   "id": "598472e3",
   "metadata": {},
   "source": [
    "Python program to check common letters in two input strings"
   ]
  },
  {
   "cell_type": "code",
   "execution_count": 12,
   "id": "58b408b8",
   "metadata": {},
   "outputs": [
    {
     "name": "stdout",
     "output_type": "stream",
     "text": [
      "{'y', 'r', 'a', 's', 'h'}\n"
     ]
    }
   ],
   "source": [
    "str1='Soundharya'\n",
    "str2='Aishwarya'\n",
    "set1=set(str1.lower())\n",
    "set2=set(str2.lower())\n",
    "a=set1.intersection(set2)\n",
    "print(a)"
   ]
  },
  {
   "cell_type": "markdown",
   "id": "ac9fe8d3",
   "metadata": {},
   "source": [
    "Python program that displays which letters are in the first string but not in the second"
   ]
  },
  {
   "cell_type": "code",
   "execution_count": 13,
   "id": "efa4c813",
   "metadata": {},
   "outputs": [
    {
     "name": "stdout",
     "output_type": "stream",
     "text": [
      "{'d', 'o', 'u', 'n'}\n"
     ]
    }
   ],
   "source": [
    "str1='Soundharya'\n",
    "str2='Aishwarya'\n",
    "set1=set(str1.lower())\n",
    "set2=set(str2.lower())\n",
    "a=set1.difference(set2)\n",
    "print(a)"
   ]
  },
  {
   "cell_type": "markdown",
   "id": "9d0400e7",
   "metadata": {},
   "source": [
    "Python program that displays which letters are present on both the strings"
   ]
  },
  {
   "cell_type": "code",
   "execution_count": 14,
   "id": "c61a4b92",
   "metadata": {},
   "outputs": [
    {
     "name": "stdout",
     "output_type": "stream",
     "text": [
      "{'d', 'o', 'y', 'n', 'w', 'r', 'i', 'u', 'a', 's', 'h'}\n"
     ]
    }
   ],
   "source": [
    "str1='Soundharya'\n",
    "str2='Aishwarya'\n",
    "set1=set(str1.lower())\n",
    "set2=set(str2.lower())\n",
    "a=set1.union(set2)\n",
    "print(a)"
   ]
  },
  {
   "cell_type": "markdown",
   "id": "8ababafc",
   "metadata": {},
   "source": [
    "Python program that displays which letters are in the two strings but not in both"
   ]
  },
  {
   "cell_type": "code",
   "execution_count": 15,
   "id": "0ed0b7ef",
   "metadata": {},
   "outputs": [
    {
     "name": "stdout",
     "output_type": "stream",
     "text": [
      "{'o', 'w', 'd', 'n', 'i', 'u'}\n"
     ]
    }
   ],
   "source": [
    "str1='Soundharya'\n",
    "str2='Aishwarya'\n",
    "set1=set(str1.lower())\n",
    "set2=set(str2.lower())\n",
    "a=set1.symmetric_difference(set2)\n",
    "print(a)"
   ]
  }
 ],
 "metadata": {
  "kernelspec": {
   "display_name": "Python 3 (ipykernel)",
   "language": "python",
   "name": "python3"
  },
  "language_info": {
   "codemirror_mode": {
    "name": "ipython",
    "version": 3
   },
   "file_extension": ".py",
   "mimetype": "text/x-python",
   "name": "python",
   "nbconvert_exporter": "python",
   "pygments_lexer": "ipython3",
   "version": "3.11.3"
  }
 },
 "nbformat": 4,
 "nbformat_minor": 5
}
