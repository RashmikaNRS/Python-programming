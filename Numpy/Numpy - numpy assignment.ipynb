{
 "cells": [
  {
   "cell_type": "markdown",
   "id": "d965925c",
   "metadata": {},
   "source": [
    "Write a Python program to print the NumPy version in your system"
   ]
  },
  {
   "cell_type": "code",
   "execution_count": 2,
   "id": "60426700",
   "metadata": {},
   "outputs": [
    {
     "name": "stdout",
     "output_type": "stream",
     "text": [
      "NumPy version: 1.24.3\n"
     ]
    }
   ],
   "source": [
    "import numpy as np\n",
    "print(\"NumPy version:\",np.__version__)"
   ]
  },
  {
   "cell_type": "markdown",
   "id": "4d8dd483",
   "metadata": {},
   "source": [
    "Write a Python program to reverse an array (first element becomes last)"
   ]
  },
  {
   "cell_type": "code",
   "execution_count": 2,
   "id": "6c1c7e23",
   "metadata": {},
   "outputs": [
    {
     "name": "stdout",
     "output_type": "stream",
     "text": [
      "[6 5 4 3 2 1]\n"
     ]
    }
   ],
   "source": [
    "arr1=np.array([1,2,3,4,5,6])\n",
    "res=arr1[::-1]\n",
    "print(res)"
   ]
  },
  {
   "cell_type": "markdown",
   "id": "7af23876",
   "metadata": {},
   "source": [
    "Write a Python program to convert a list and tuple into arrays"
   ]
  },
  {
   "cell_type": "code",
   "execution_count": 4,
   "id": "9935cef1",
   "metadata": {},
   "outputs": [
    {
     "name": "stdout",
     "output_type": "stream",
     "text": [
      "[1 2 3 4 5] <class 'numpy.ndarray'>\n",
      "[ 6  7  8  9 10] <class 'numpy.ndarray'>\n"
     ]
    }
   ],
   "source": [
    "lst1=[1,2,3,4,5]\n",
    "tup1=(6,7,8,9,10)\n",
    "arr1=np.array(lst1)\n",
    "arr2=np.array(tup1)\n",
    "print(arr1,type(arr1))\n",
    "print(arr2,type(arr2))"
   ]
  },
  {
   "cell_type": "markdown",
   "id": "5b12f75d",
   "metadata": {},
   "source": [
    "Write a Python program to find common values between two arrays"
   ]
  },
  {
   "cell_type": "code",
   "execution_count": 11,
   "id": "ff2e8677",
   "metadata": {},
   "outputs": [
    {
     "name": "stdout",
     "output_type": "stream",
     "text": [
      "arr1:\n",
      " [4 4 3 4 4 3 4 1 4 2]\n",
      "arr2:\n",
      " [ 8  4  9  6  2  6  8  2 14  4]\n",
      "[2 4]\n"
     ]
    }
   ],
   "source": [
    "arr1=np.random.randint(1,5,10)\n",
    "print('arr1:\\n',arr1)\n",
    "arr2=np.random.randint(1,15,10)\n",
    "print('arr2:\\n',arr2)\n",
    "res=np.intersect1d(arr1,arr2)\n",
    "print(res)"
   ]
  },
  {
   "cell_type": "markdown",
   "id": "92697910",
   "metadata": {},
   "source": [
    "Write a Python program compare two arrays using numpy"
   ]
  },
  {
   "cell_type": "code",
   "execution_count": 16,
   "id": "4fbc4a98",
   "metadata": {},
   "outputs": [
    {
     "name": "stdout",
     "output_type": "stream",
     "text": [
      "arr1:\n",
      " [3 2 3 3 3 4 2 4 2 1]\n",
      "arr2:\n",
      " [1 3 2 2 1 4 3 3 3 1]\n",
      "[ True False  True  True  True False False  True False False]\n"
     ]
    }
   ],
   "source": [
    "arr1=np.random.randint(1,5,10)\n",
    "print('arr1:\\n',arr1)\n",
    "arr2=np.random.randint(1,5,10)\n",
    "print('arr2:\\n',arr2)\n",
    "arr3=arr1>arr2\n",
    "print(arr3)"
   ]
  },
  {
   "cell_type": "markdown",
   "id": "df4375fc",
   "metadata": {},
   "source": [
    "Write a Python program to change the dimension of an array"
   ]
  },
  {
   "cell_type": "code",
   "execution_count": 27,
   "id": "18c97203",
   "metadata": {},
   "outputs": [
    {
     "name": "stdout",
     "output_type": "stream",
     "text": [
      "arr1:\n",
      " [[[1 4 1]\n",
      "  [2 4 4]]\n",
      "\n",
      " [[3 1 1]\n",
      "  [4 4 3]]\n",
      "\n",
      " [[1 4 1]\n",
      "  [4 1 2]]\n",
      "\n",
      " [[2 2 2]\n",
      "  [4 3 3]]] \n",
      "\n",
      "arr2:\n",
      " [[1 4 1 2 4 4]\n",
      " [3 1 1 4 4 3]\n",
      " [1 4 1 4 1 2]\n",
      " [2 2 2 4 3 3]]\n"
     ]
    }
   ],
   "source": [
    "arr1=np.random.randint(1,5,24).reshape(4,2,3) # 3-dimensional\n",
    "print('arr1:\\n',arr1,'\\n')\n",
    "print('Dimension:',np.ndim(arr1))\n",
    "arr2=arr1.reshape(4,6) # 2-dimensional\n",
    "print('arr2:\\n',arr2)"
   ]
  },
  {
   "cell_type": "markdown",
   "id": "b36f229f",
   "metadata": {},
   "source": [
    "Write a Python program (using numpy) to sum of all the multiples of 3 or 5 below 100"
   ]
  },
  {
   "cell_type": "code",
   "execution_count": 32,
   "id": "496fd671",
   "metadata": {},
   "outputs": [
    {
     "name": "stdout",
     "output_type": "stream",
     "text": [
      "2318\n"
     ]
    }
   ],
   "source": [
    "arr1=np.arange(1,100)\n",
    "total=0\n",
    "for x in arr1:\n",
    "    if x%3==0 or x%5==0:\n",
    "        total+=x\n",
    "print(total)"
   ]
  },
  {
   "cell_type": "markdown",
   "id": "c67b3f7f",
   "metadata": {},
   "source": [
    "Write a Python program to convert a NumPy array into Python list structure"
   ]
  },
  {
   "cell_type": "code",
   "execution_count": 33,
   "id": "e8074a38",
   "metadata": {},
   "outputs": [
    {
     "name": "stdout",
     "output_type": "stream",
     "text": [
      "[2 3 2 2 4 4 4 2 1 3] <class 'numpy.ndarray'>\n",
      "[2, 3, 2, 2, 4, 4, 4, 2, 1, 3] <class 'list'>\n"
     ]
    }
   ],
   "source": [
    "arr1=np.random.randint(1,5,10)\n",
    "print(arr1,type(arr1))\n",
    "arr2=list(arr1)\n",
    "print(arr2,type(arr2))"
   ]
  },
  {
   "cell_type": "markdown",
   "id": "bd0e99e4",
   "metadata": {},
   "source": [
    "Write a Python program to how to add an extra column to a numpy array"
   ]
  },
  {
   "cell_type": "code",
   "execution_count": 5,
   "id": "2d7bb614",
   "metadata": {
    "scrolled": true
   },
   "outputs": [
    {
     "name": "stdout",
     "output_type": "stream",
     "text": [
      "arr1:\n",
      " [[2 1 4 3 3]\n",
      " [4 3 1 2 3]] \n",
      "\n",
      "arr2:\n",
      " [111 222] \n",
      "\n",
      "[[  2   1   4   3   3 111]\n",
      " [  4   3   1   2   3 222]]\n"
     ]
    }
   ],
   "source": [
    "arr1=np.random.randint(1,5,10).reshape(2,5)\n",
    "print('arr1:\\n',arr1,'\\n')\n",
    "arr2=np.array([111,222])\n",
    "print('arr2:\\n',arr2,'\\n')\n",
    "arr3=np.hstack((arr1,arr2.reshape(-1,1))) # the array to be added as a new column is given along with reshape(-1,1)\n",
    "# -1 means that the no of rows are automatically calculated to ensure that the dimensions match with the original array\n",
    "# 1 means the no of rows\n",
    "print(arr3)"
   ]
  },
  {
   "cell_type": "markdown",
   "id": "51be6c95",
   "metadata": {},
   "source": [
    "Write a Python program to check whether the numpy array is empty or not"
   ]
  },
  {
   "cell_type": "code",
   "execution_count": 13,
   "id": "93d22f35",
   "metadata": {},
   "outputs": [
    {
     "name": "stdout",
     "output_type": "stream",
     "text": [
      "array is empty\n"
     ]
    }
   ],
   "source": [
    "arr1=np.array([])\n",
    "if np.size(arr1)==0:\n",
    "    print('array is empty')\n",
    "else:\n",
    "    print('array is not empty')"
   ]
  },
  {
   "cell_type": "markdown",
   "id": "7b925175",
   "metadata": {},
   "source": [
    "How to swap two rows of an array? "
   ]
  },
  {
   "cell_type": "code",
   "execution_count": 22,
   "id": "fbd47aeb",
   "metadata": {},
   "outputs": [
    {
     "name": "stdout",
     "output_type": "stream",
     "text": [
      "arr1:\n",
      " [[2 3 4]\n",
      " [3 1 1]\n",
      " [3 2 2]\n",
      " [4 1 2]] \n",
      "\n",
      "[[2 3 4]\n",
      " [3 2 2]\n",
      " [3 1 1]\n",
      " [4 1 2]]\n"
     ]
    }
   ],
   "source": [
    "arr1=np.random.randint(1,5,12).reshape(4,3) # 3-dimensional\n",
    "print('arr1:\\n',arr1,'\\n')\n",
    "arr1[[1,2]]=arr1[[2,1]] # row 1 and row 2 = row 2 and row 1\n",
    "print(arr1)"
   ]
  },
  {
   "cell_type": "markdown",
   "id": "eeea30ff",
   "metadata": {},
   "source": [
    " Python program to create a random vector of size 10 and sort it"
   ]
  },
  {
   "cell_type": "code",
   "execution_count": 23,
   "id": "56bc29ba",
   "metadata": {},
   "outputs": [
    {
     "name": "stdout",
     "output_type": "stream",
     "text": [
      "Original vector:\n",
      " [0.36506019 0.75236523 0.70402362 0.26216324 0.54933997 0.28519621\n",
      " 0.35540638 0.89131706 0.45112398 0.31629267] \n",
      "\n",
      "Sorted vector:\n",
      " [0.26216324 0.28519621 0.31629267 0.35540638 0.36506019 0.45112398\n",
      " 0.54933997 0.70402362 0.75236523 0.89131706]\n"
     ]
    }
   ],
   "source": [
    "vector1=np.random.rand(10)\n",
    "print('Original vector:\\n',vector1,'\\n')\n",
    "vector2=np.sort(vector1)\n",
    "print('Sorted vector:\\n',vector2)"
   ]
  },
  {
   "cell_type": "markdown",
   "id": "7979c303",
   "metadata": {},
   "source": [
    " Write a Python program to check two random arrays are equal or not"
   ]
  },
  {
   "cell_type": "code",
   "execution_count": 25,
   "id": "0917224e",
   "metadata": {},
   "outputs": [
    {
     "name": "stdout",
     "output_type": "stream",
     "text": [
      "arr1:\n",
      " [4 3 3 4 1 3 4 3 2 1]\n",
      "arr2:\n",
      " [2 3 3 3 1 2 3 1 1 4]\n",
      "False\n"
     ]
    }
   ],
   "source": [
    "arr1=np.random.randint(1,5,10)\n",
    "print('arr1:\\n',arr1)\n",
    "arr2=np.random.randint(1,5,10)\n",
    "print('arr2:\\n',arr2)\n",
    "res=np.array_equal(arr1,arr2)\n",
    "print(res)"
   ]
  },
  {
   "cell_type": "markdown",
   "id": "46e7c553",
   "metadata": {},
   "source": [
    "Write a Python program to add, subtract, multiply, divide arguments element-wise"
   ]
  },
  {
   "cell_type": "code",
   "execution_count": 34,
   "id": "11e35d2f",
   "metadata": {},
   "outputs": [
    {
     "name": "stdout",
     "output_type": "stream",
     "text": [
      "arr1:\n",
      " [[3 2 2 4]\n",
      " [3 3 3 4]\n",
      " [1 3 4 1]] \n",
      "\n",
      "arr2:\n",
      " [[6 5 7 5]\n",
      " [7 5 6 6]\n",
      " [6 8 7 8]]\n",
      "Addition:\n",
      " [[ 9  7  9  9]\n",
      " [10  8  9 10]\n",
      " [ 7 11 11  9]] \n",
      "\n",
      "Subtraction:\n",
      " [[-3 -3 -5 -1]\n",
      " [-4 -2 -3 -2]\n",
      " [-5 -5 -3 -7]] \n",
      "\n",
      "Multiplication:\n",
      " [[18 10 14 20]\n",
      " [21 15 18 24]\n",
      " [ 6 24 28  8]] \n",
      "\n",
      "Division:\n",
      " [[0.5        0.4        0.28571429 0.8       ]\n",
      " [0.42857143 0.6        0.5        0.66666667]\n",
      " [0.16666667 0.375      0.57142857 0.125     ]] \n",
      "\n"
     ]
    }
   ],
   "source": [
    "arr1=np.random.randint(1,5,12).reshape(3,4)\n",
    "print('arr1:\\n',arr1,'\\n')\n",
    "arr2=np.random.randint(5,9,12).reshape(3,4)\n",
    "print('arr2:\\n',arr2)\n",
    "arradd=arr1+arr2\n",
    "print('Addition:\\n',arradd,'\\n')\n",
    "arrsub=arr1-arr2\n",
    "print('Subtraction:\\n',arrsub,'\\n')\n",
    "arrmul=arr1*arr2\n",
    "print('Multiplication:\\n',arrmul,'\\n')\n",
    "arrdiv=arr1/arr2\n",
    "print('Division:\\n',arrdiv,'\\n')"
   ]
  },
  {
   "cell_type": "markdown",
   "id": "496c7547",
   "metadata": {},
   "source": [
    "Write a Python program to get the dates of yesterday, today and tomorrow. "
   ]
  },
  {
   "cell_type": "code",
   "execution_count": 37,
   "id": "64e0a579",
   "metadata": {},
   "outputs": [
    {
     "name": "stdout",
     "output_type": "stream",
     "text": [
      "Today's date:  2023-10-27\n",
      "Yesterday's date:  2023-10-26\n",
      "Tomorrow's date:  2023-10-28\n"
     ]
    }
   ],
   "source": [
    "todaydate=np.datetime64('today')\n",
    "print(\"Today's date: \",todaydate)\n",
    "yesdate=todaydate+np.timedelta64(-1,'D')\n",
    "print(\"Yesterday's date: \",yesdate)\n",
    "tomdate=todaydate+np.timedelta64(1,'D')\n",
    "print(\"Tomorrow's date: \",tomdate)"
   ]
  }
 ],
 "metadata": {
  "kernelspec": {
   "display_name": "Python 3 (ipykernel)",
   "language": "python",
   "name": "python3"
  },
  "language_info": {
   "codemirror_mode": {
    "name": "ipython",
    "version": 3
   },
   "file_extension": ".py",
   "mimetype": "text/x-python",
   "name": "python",
   "nbconvert_exporter": "python",
   "pygments_lexer": "ipython3",
   "version": "3.11.3"
  }
 },
 "nbformat": 4,
 "nbformat_minor": 5
}
